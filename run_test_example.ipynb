{
 "cells": [
  {
   "cell_type": "code",
   "execution_count": null,
   "metadata": {},
   "outputs": [],
   "source": [
    "\"\"\"\n",
    "!pip install -q sciunit\n",
    "!pip install -q neo\n",
    "!pip install -q elephant\n",
    "!pip install -q gitpython\n",
    "!pip install -q efel\n",
    "\"\"\""
   ]
  },
  {
   "cell_type": "code",
   "execution_count": null,
   "metadata": {},
   "outputs": [],
   "source": [
    "#!pip install scipy seaborn\n",
    "!pip install -U git+https://github.com/appukuttan-shailesh/hbp-validation-client.git\n",
    "#!pip install --quiet fpdf PyPDF2 tabulate\n",
    "#!pip install ./bbp-services-0.0.15/ ./task-types-0.0.10/ \n",
    "!pip install hbp_service_client"
   ]
  },
  {
   "cell_type": "code",
   "execution_count": 1,
   "metadata": {
    "scrolled": true
   },
   "outputs": [
    {
     "name": "stderr",
     "output_type": "stream",
     "text": [
      "/home/pedroernesto/miniconda2/lib/python2.7/site-packages/pandas/core/nanops.py:39: UserWarning: The installed version of bottleneck 0.8.0 is not supported in pandas and will be not be used\n",
      "The minimum supported version is 1.0.0\n",
      "\n",
      "  ver=ver, min_ver=_MIN_BOTTLENECK_VERSION), UserWarning)\n"
     ]
    },
    {
     "name": "stdout",
     "output_type": "stream",
     "text": [
      "----------------------------------------------\n",
      "('Model name: ', 'NeuroM_MorphStats')\n",
      "('Model type: ', <class 'models.NeuroM_MorphStats'>)\n",
      "----------------------------------------------\n",
      "----------------------------------------------\n",
      "('Test name: ', \"Cell's morpho-stats test\")\n",
      "('Test type: ', <class 'morphounit.tests.test_NeuroM_MorphStats.NeuroM_MorphStats_Test'>)\n",
      "----------------------------------------------\n",
      "----------------------------------------------\n",
      "('Score: ', 1.7507281809075355)\n",
      "Output files: \n",
      "./validation_results/neuroM_morph_softChecks/6af9b1033b730fd8347bab20a94e86666a5090fa*/20180412-165732/score_summary_OG060921A3-CH5-BC-H-ZK-60X-1-rep-cor.txt\n",
      "./validation_results/neuroM_morph_softChecks/6af9b1033b730fd8347bab20a94e86666a5090fa*/20180412-165732/score_summary_C170897A-I1-rep-cor.txt\n",
      "./validation_results/neuroM_morph_softChecks/6af9b1033b730fd8347bab20a94e86666a5090fa*/20180412-165732/score_summary_MTC070301C-IDA-rep-cor.txt\n",
      "./validation_results/neuroM_morph_softChecks/6af9b1033b730fd8347bab20a94e86666a5090fa*/20180412-165732/score_summary_OG061201A6-CH5-BC-H-ZK-60X-1-rep-cor.txt\n",
      "./validation_results/neuroM_morph_softChecks/6af9b1033b730fd8347bab20a94e86666a5090fa*/20180412-165732/score_summary_BE45F-rep-cor.txt\n",
      "./validation_results/neuroM_morph_softChecks/6af9b1033b730fd8347bab20a94e86666a5090fa*/20180412-165732/score_summary_030225-5-PV-rep-cor.txt\n",
      "./validation_results/neuroM_morph_softChecks/6af9b1033b730fd8347bab20a94e86666a5090fa*/20180412-165732/score_summary_RP110131-L5-1-IDA-rep-cor.txt\n",
      "./validation_results/neuroM_morph_softChecks/6af9b1033b730fd8347bab20a94e86666a5090fa*/20180412-165732/score_summary_C300106A-rep-cor.txt\n",
      "./validation_results/neuroM_morph_softChecks/6af9b1033b730fd8347bab20a94e86666a5090fa*/20180412-165732/score_summary_BE43D-rep-cor.txt\n",
      "./validation_results/neuroM_morph_softChecks/6af9b1033b730fd8347bab20a94e86666a5090fa*/20180412-165732/score_summary_OG061201A1-8-IDE-rep-cor.txt\n",
      "./validation_results/neuroM_morph_softChecks/6af9b1033b730fd8347bab20a94e86666a5090fa*/20180412-165732/score_summary_DR-rat-Mar-13-08-1-536-R-rep-cor.txt\n",
      "./validation_results/neuroM_morph_softChecks/6af9b1033b730fd8347bab20a94e86666a5090fa*/20180412-165732/score_summary_RP110427-C2-IDA-rep-cor.txt\n",
      "./validation_results/neuroM_morph_softChecks/6af9b1033b730fd8347bab20a94e86666a5090fa*/20180412-165732/score_summary_BE37A-rep-cor.txt\n",
      "./validation_results/neuroM_morph_softChecks/6af9b1033b730fd8347bab20a94e86666a5090fa*/20180412-165732/score_summary_BE110A-rep-cor.txt\n",
      "./validation_results/neuroM_morph_softChecks/6af9b1033b730fd8347bab20a94e86666a5090fa*/20180412-165732/score_summary_RP110208-L5-2-IDA-rep-cor.txt\n",
      "./validation_results/neuroM_morph_softChecks/6af9b1033b730fd8347bab20a94e86666a5090fa*/20180412-165732/score_summary_RP110113-L5-1-IDA-rep-cor.txt\n",
      "./validation_results/neuroM_morph_softChecks/6af9b1033b730fd8347bab20a94e86666a5090fa*/20180412-165732/score_summary_MTC190800B-IDB-rep-cor.txt\n",
      "./validation_results/neuroM_morph_softChecks/6af9b1033b730fd8347bab20a94e86666a5090fa*/20180412-165732/score_summary_RP100428-12-IDL-rep-cor.txt\n",
      "./validation_results/neuroM_morph_softChecks/6af9b1033b730fd8347bab20a94e86666a5090fa*/20180412-165732/score_summary_C240998A-I3-rep-cor.txt\n",
      "./validation_results/neuroM_morph_softChecks/6af9b1033b730fd8347bab20a94e86666a5090fa*/20180412-165732/score_summary_TKB060508A2-CH5-BC-H-ZK-60X-1-rep-cor.txt\n",
      "./validation_results/neuroM_morph_softChecks/6af9b1033b730fd8347bab20a94e86666a5090fa*/20180412-165732/score_summary_OG060810A8-011807-CH5-BC-O-NR-60X-0-rep-cor.txt\n",
      "./validation_results/neuroM_morph_softChecks/6af9b1033b730fd8347bab20a94e86666a5090fa*/20180412-165732/score_summary_RP110710-C3-IDA-rep-cor.txt\n",
      "./validation_results/neuroM_morph_softChecks/6af9b1033b730fd8347bab20a94e86666a5090fa*/20180412-165732/score_summary_MTC190800A-IDA-rep-cor.txt\n",
      "./validation_results/neuroM_morph_softChecks/6af9b1033b730fd8347bab20a94e86666a5090fa*/20180412-165732/score_summary_CS56_FS_basket_cell-rep-cor.txt\n",
      "./validation_results/neuroM_morph_softChecks/6af9b1033b730fd8347bab20a94e86666a5090fa*/20180412-165732/score_summary_RP110119-L5-2-IDC-rep-cor.txt\n",
      "./validation_results/neuroM_morph_softChecks/6af9b1033b730fd8347bab20a94e86666a5090fa*/20180412-165732/score_summary_MTC050600B-IDA-rep-cor.txt\n",
      "./validation_results/neuroM_morph_softChecks/6af9b1033b730fd8347bab20a94e86666a5090fa*/20180412-165732/score_summary_BE71D-rep-cor.txt\n",
      "./validation_results/neuroM_morph_softChecks/6af9b1033b730fd8347bab20a94e86666a5090fa*/20180412-165732/score_summary_MTC291001C-IDA-rep-cor.txt\n",
      "./validation_results/neuroM_morph_softChecks/6af9b1033b730fd8347bab20a94e86666a5090fa*/20180412-165732/score_summary_MTC130800C-IDA-rep-cor.txt\n",
      "./validation_results/neuroM_morph_softChecks/6af9b1033b730fd8347bab20a94e86666a5090fa*/20180412-165732/score_summary_MTC251001A-IDB-rep-cor.txt\n",
      "./validation_results/neuroM_morph_softChecks/6af9b1033b730fd8347bab20a94e86666a5090fa*/20180412-165732/score_summary_VD101020B-IDB-rep-cor.txt\n",
      "./validation_results/neuroM_morph_softChecks/6af9b1033b730fd8347bab20a94e86666a5090fa*/20180412-165732/score_summary_PE08D-rep-cor.txt\n",
      "./validation_results/neuroM_morph_softChecks/6af9b1033b730fd8347bab20a94e86666a5090fa*/20180412-165732/score_summary_MTC031100A-IDD-rep-cor.txt\n",
      "./validation_results/neuroM_morph_softChecks/6af9b1033b730fd8347bab20a94e86666a5090fa*/20180412-165732/score_summary_BE104E-rep-cor.txt\n",
      "./validation_results/neuroM_morph_softChecks/6af9b1033b730fd8347bab20a94e86666a5090fa*/20180412-165732/score_summary_MTC141001A-IDA-rep-cor.txt\n",
      "./validation_results/neuroM_morph_softChecks/6af9b1033b730fd8347bab20a94e86666a5090fa*/20180412-165732/score_summary_BE79B-rep-cor.txt\n",
      "./validation_results/neuroM_morph_softChecks/6af9b1033b730fd8347bab20a94e86666a5090fa*/20180412-165732/score_summary_MTC180800A-IDB-rep-cor.txt\n",
      "./validation_results/neuroM_morph_softChecks/6af9b1033b730fd8347bab20a94e86666a5090fa*/20180412-165732/score_summary_RP101026-1-INT-IDC-rep-cor.txt\n",
      "./validation_results/neuroM_morph_softChecks/6af9b1033b730fd8347bab20a94e86666a5090fa*/20180412-165732/score_summary_C310106C-rep-cor.txt\n",
      "./validation_results/neuroM_morph_softChecks/6af9b1033b730fd8347bab20a94e86666a5090fa*/20180412-165732/score_summary_RP110120-L5-4-IDB-rep-cor.txt\n",
      "./validation_results/neuroM_morph_softChecks/6af9b1033b730fd8347bab20a94e86666a5090fa*/20180412-165732/score_summary_C230300D1-rep-cor.txt\n",
      "./validation_results/neuroM_morph_softChecks/6af9b1033b730fd8347bab20a94e86666a5090fa*/20180412-165732/score_summary_RP110506_C1+2_IDA-rep-cor.txt\n",
      "./validation_results/neuroM_morph_softChecks/6af9b1033b730fd8347bab20a94e86666a5090fa*/20180412-165732/score_summary_MTC151100A-IDA-rep-cor.txt\n",
      "./validation_results/neuroM_morph_softChecks/6af9b1033b730fd8347bab20a94e86666a5090fa*/20180412-165732/score_summary_RP110419-C1-IDA-rep-cor.txt\n",
      "./validation_results/neuroM_morph_softChecks/6af9b1033b730fd8347bab20a94e86666a5090fa*/20180412-165732/score_summary_L5BC-j140416b-cell-5-rep-cor.txt\n",
      "./validation_results/neuroM_morph_softChecks/6af9b1033b730fd8347bab20a94e86666a5090fa*/20180412-165732/score_summary_MTC270202A-IDA-rep-cor.txt\n",
      "./validation_results/neuroM_morph_softChecks/6af9b1033b730fd8347bab20a94e86666a5090fa*/20180412-165732/score_summary_BE53C-rep-cor.txt\n",
      "./validation_results/neuroM_morph_softChecks/6af9b1033b730fd8347bab20a94e86666a5090fa*/20180412-165732/score_bars_morpho_features_OG060921A3-CH5-BC-H-ZK-60X-1-rep-cor.png\n",
      "./validation_results/neuroM_morph_softChecks/6af9b1033b730fd8347bab20a94e86666a5090fa*/20180412-165732/score_bars_morpho_features_C170897A-I1-rep-cor.png\n",
      "./validation_results/neuroM_morph_softChecks/6af9b1033b730fd8347bab20a94e86666a5090fa*/20180412-165732/score_bars_morpho_features_MTC070301C-IDA-rep-cor.png\n",
      "./validation_results/neuroM_morph_softChecks/6af9b1033b730fd8347bab20a94e86666a5090fa*/20180412-165732/score_bars_morpho_features_OG061201A6-CH5-BC-H-ZK-60X-1-rep-cor.png\n",
      "./validation_results/neuroM_morph_softChecks/6af9b1033b730fd8347bab20a94e86666a5090fa*/20180412-165732/score_bars_morpho_features_BE45F-rep-cor.png\n",
      "./validation_results/neuroM_morph_softChecks/6af9b1033b730fd8347bab20a94e86666a5090fa*/20180412-165732/score_bars_morpho_features_030225-5-PV-rep-cor.png\n",
      "./validation_results/neuroM_morph_softChecks/6af9b1033b730fd8347bab20a94e86666a5090fa*/20180412-165732/score_bars_morpho_features_RP110131-L5-1-IDA-rep-cor.png\n",
      "./validation_results/neuroM_morph_softChecks/6af9b1033b730fd8347bab20a94e86666a5090fa*/20180412-165732/score_bars_morpho_features_C300106A-rep-cor.png\n",
      "./validation_results/neuroM_morph_softChecks/6af9b1033b730fd8347bab20a94e86666a5090fa*/20180412-165732/score_bars_morpho_features_BE43D-rep-cor.png\n",
      "./validation_results/neuroM_morph_softChecks/6af9b1033b730fd8347bab20a94e86666a5090fa*/20180412-165732/score_bars_morpho_features_DR-rat-Mar-13-08-1-536-R-rep-cor.png\n",
      "./validation_results/neuroM_morph_softChecks/6af9b1033b730fd8347bab20a94e86666a5090fa*/20180412-165732/score_bars_morpho_features_RP110427-C2-IDA-rep-cor.png\n",
      "./validation_results/neuroM_morph_softChecks/6af9b1033b730fd8347bab20a94e86666a5090fa*/20180412-165732/score_bars_morpho_features_BE37A-rep-cor.png\n",
      "./validation_results/neuroM_morph_softChecks/6af9b1033b730fd8347bab20a94e86666a5090fa*/20180412-165732/score_bars_morpho_features_BE110A-rep-cor.png\n",
      "./validation_results/neuroM_morph_softChecks/6af9b1033b730fd8347bab20a94e86666a5090fa*/20180412-165732/score_bars_morpho_features_RP110208-L5-2-IDA-rep-cor.png\n",
      "./validation_results/neuroM_morph_softChecks/6af9b1033b730fd8347bab20a94e86666a5090fa*/20180412-165732/score_bars_morpho_features_MTC190800B-IDB-rep-cor.png\n",
      "./validation_results/neuroM_morph_softChecks/6af9b1033b730fd8347bab20a94e86666a5090fa*/20180412-165732/score_bars_morpho_features_RP110120-L5-4-IDB-rep-cor.png\n",
      "./validation_results/neuroM_morph_softChecks/6af9b1033b730fd8347bab20a94e86666a5090fa*/20180412-165732/score_bars_morpho_features_RP100428-12-IDL-rep-cor.png\n",
      "./validation_results/neuroM_morph_softChecks/6af9b1033b730fd8347bab20a94e86666a5090fa*/20180412-165732/score_bars_morpho_features_C240998A-I3-rep-cor.png\n",
      "./validation_results/neuroM_morph_softChecks/6af9b1033b730fd8347bab20a94e86666a5090fa*/20180412-165732/score_bars_morpho_features_TKB060508A2-CH5-BC-H-ZK-60X-1-rep-cor.png\n",
      "./validation_results/neuroM_morph_softChecks/6af9b1033b730fd8347bab20a94e86666a5090fa*/20180412-165732/score_bars_morpho_features_MTC190800A-IDA-rep-cor.png\n",
      "./validation_results/neuroM_morph_softChecks/6af9b1033b730fd8347bab20a94e86666a5090fa*/20180412-165732/score_bars_morpho_features_RP110710-C3-IDA-rep-cor.png\n",
      "./validation_results/neuroM_morph_softChecks/6af9b1033b730fd8347bab20a94e86666a5090fa*/20180412-165732/score_bars_morpho_features_MTC050600B-IDA-rep-cor.png\n",
      "./validation_results/neuroM_morph_softChecks/6af9b1033b730fd8347bab20a94e86666a5090fa*/20180412-165732/score_bars_morpho_features_BE71D-rep-cor.png\n",
      "./validation_results/neuroM_morph_softChecks/6af9b1033b730fd8347bab20a94e86666a5090fa*/20180412-165732/score_bars_morpho_features_MTC291001C-IDA-rep-cor.png\n",
      "./validation_results/neuroM_morph_softChecks/6af9b1033b730fd8347bab20a94e86666a5090fa*/20180412-165732/score_bars_morpho_features_MTC130800C-IDA-rep-cor.png\n",
      "./validation_results/neuroM_morph_softChecks/6af9b1033b730fd8347bab20a94e86666a5090fa*/20180412-165732/score_bars_morpho_features_RP110113-L5-1-IDA-rep-cor.png\n",
      "./validation_results/neuroM_morph_softChecks/6af9b1033b730fd8347bab20a94e86666a5090fa*/20180412-165732/score_bars_morpho_features_MTC251001A-IDB-rep-cor.png\n",
      "./validation_results/neuroM_morph_softChecks/6af9b1033b730fd8347bab20a94e86666a5090fa*/20180412-165732/score_bars_morpho_features_RP110119-L5-2-IDC-rep-cor.png\n",
      "./validation_results/neuroM_morph_softChecks/6af9b1033b730fd8347bab20a94e86666a5090fa*/20180412-165732/score_bars_morpho_features_CS56_FS_basket_cell-rep-cor.png\n",
      "./validation_results/neuroM_morph_softChecks/6af9b1033b730fd8347bab20a94e86666a5090fa*/20180412-165732/score_bars_morpho_features_VD101020B-IDB-rep-cor.png\n",
      "./validation_results/neuroM_morph_softChecks/6af9b1033b730fd8347bab20a94e86666a5090fa*/20180412-165732/score_bars_morpho_features_PE08D-rep-cor.png\n",
      "./validation_results/neuroM_morph_softChecks/6af9b1033b730fd8347bab20a94e86666a5090fa*/20180412-165732/score_bars_morpho_features_MTC031100A-IDD-rep-cor.png\n",
      "./validation_results/neuroM_morph_softChecks/6af9b1033b730fd8347bab20a94e86666a5090fa*/20180412-165732/score_bars_morpho_features_BE104E-rep-cor.png\n",
      "./validation_results/neuroM_morph_softChecks/6af9b1033b730fd8347bab20a94e86666a5090fa*/20180412-165732/score_bars_morpho_features_MTC141001A-IDA-rep-cor.png\n",
      "./validation_results/neuroM_morph_softChecks/6af9b1033b730fd8347bab20a94e86666a5090fa*/20180412-165732/score_bars_morpho_features_RP101026-1-INT-IDC-rep-cor.png\n",
      "./validation_results/neuroM_morph_softChecks/6af9b1033b730fd8347bab20a94e86666a5090fa*/20180412-165732/score_bars_morpho_features_BE79B-rep-cor.png\n",
      "./validation_results/neuroM_morph_softChecks/6af9b1033b730fd8347bab20a94e86666a5090fa*/20180412-165732/score_bars_morpho_features_MTC180800A-IDB-rep-cor.png\n",
      "./validation_results/neuroM_morph_softChecks/6af9b1033b730fd8347bab20a94e86666a5090fa*/20180412-165732/score_bars_morpho_features_OG061201A1-8-IDE-rep-cor.png\n",
      "./validation_results/neuroM_morph_softChecks/6af9b1033b730fd8347bab20a94e86666a5090fa*/20180412-165732/score_bars_morpho_features_RP110506_C1+2_IDA-rep-cor.png\n",
      "./validation_results/neuroM_morph_softChecks/6af9b1033b730fd8347bab20a94e86666a5090fa*/20180412-165732/score_bars_morpho_features_C310106C-rep-cor.png\n",
      "./validation_results/neuroM_morph_softChecks/6af9b1033b730fd8347bab20a94e86666a5090fa*/20180412-165732/score_bars_morpho_features_C230300D1-rep-cor.png\n",
      "./validation_results/neuroM_morph_softChecks/6af9b1033b730fd8347bab20a94e86666a5090fa*/20180412-165732/score_bars_morpho_features_OG060810A8-011807-CH5-BC-O-NR-60X-0-rep-cor.png\n",
      "./validation_results/neuroM_morph_softChecks/6af9b1033b730fd8347bab20a94e86666a5090fa*/20180412-165732/score_bars_morpho_features_MTC151100A-IDA-rep-cor.png\n",
      "./validation_results/neuroM_morph_softChecks/6af9b1033b730fd8347bab20a94e86666a5090fa*/20180412-165732/score_bars_morpho_features_RP110419-C1-IDA-rep-cor.png\n",
      "./validation_results/neuroM_morph_softChecks/6af9b1033b730fd8347bab20a94e86666a5090fa*/20180412-165732/score_bars_morpho_features_L5BC-j140416b-cell-5-rep-cor.png\n",
      "./validation_results/neuroM_morph_softChecks/6af9b1033b730fd8347bab20a94e86666a5090fa*/20180412-165732/score_bars_morpho_features_MTC270202A-IDA-rep-cor.png\n",
      "./validation_results/neuroM_morph_softChecks/6af9b1033b730fd8347bab20a94e86666a5090fa*/20180412-165732/score_bars_morpho_features_BE53C-rep-cor.png\n",
      "----------------------------------------------\n"
     ]
    },
    {
     "name": "stdout",
     "output_type": "stream",
     "text": [
      "Result registered successfully!\n"
     ]
    },
    {
     "data": {
      "text/plain": [
       "u'4ac3a98e-8569-41c0-9e15-2e3ef52698e7'"
      ]
     },
     "execution_count": 1,
     "metadata": {},
     "output_type": "execute_result"
    }
   ],
   "source": [
    "# First login in into the production version of the VF\n",
    "from hbp_validation_framework import utils, ModelCatalog\n",
    "x=ModelCatalog(username='pedroernesto')\n",
    "\n",
    "import models\n",
    "model_path = './str-fs_pv-20170919'\n",
    "config_path = './morph_stats_config.yaml'\n",
    "output_file = './models/model_predictions/NeuroM_MorphStats_prediction.json'\n",
    "\n",
    "model2Test = models.NeuroM_MorphStats(model_path=model_path, config_path=config_path, output_file=output_file) \n",
    "# model2Test = models.CA1_laminar_distribution_synapses() \n",
    "utils.run_test(environment=\"dev\", hbp_username=\"pedroernesto\", model=model2Test, test_alias=\"morph_stats_Test\", test_version=\"2.0\")"
   ]
  },
  {
   "cell_type": "code",
   "execution_count": null,
   "metadata": {},
   "outputs": [],
   "source": []
  }
 ],
 "metadata": {
  "kernelspec": {
   "display_name": "Python 2",
   "language": "python",
   "name": "python2"
  },
  "language_info": {
   "codemirror_mode": {
    "name": "ipython",
    "version": 2
   },
   "file_extension": ".py",
   "mimetype": "text/x-python",
   "name": "python",
   "nbconvert_exporter": "python",
   "pygments_lexer": "ipython2",
   "version": "2.7.13"
  }
 },
 "nbformat": 4,
 "nbformat_minor": 2
}
