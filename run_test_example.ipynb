{
 "cells": [
  {
   "cell_type": "code",
   "execution_count": null,
   "metadata": {},
   "outputs": [],
   "source": [
    "\"\"\"\n",
    "!pip install -q sciunit\n",
    "!pip install -q neo\n",
    "!pip install -q elephant\n",
    "!pip install -q gitpython\n",
    "!pip install -q efel\n",
    "\"\"\""
   ]
  },
  {
   "cell_type": "code",
   "execution_count": null,
   "metadata": {},
   "outputs": [],
   "source": [
    "#!pip install scipy seaborn\n",
    "!pip install -U git+https://github.com/appukuttan-shailesh/hbp-validation-client.git\n",
    "#!pip install --quiet fpdf PyPDF2 tabulate\n",
    "#!pip install ./bbp-services-0.0.15/ ./task-types-0.0.10/ \n",
    "!pip install hbp_service_client"
   ]
  },
  {
   "cell_type": "code",
   "execution_count": null,
   "metadata": {},
   "outputs": [],
   "source": [
    "# Register a new test on the test library\n",
    "name=\"NeuroM morpho-stats Test\"\n",
    "alias=\"morph_stats_Test\"\n",
    "version=\"3.0\"\n",
    "author=\"Pedro Garcia-Rodriguez\"\n",
    "species=\"Undefined\"\n",
    "age=\"Any\"\n",
    "brain_region=\"Striatum\"\n",
    "cell_type=\"Other\"\n",
    "data_modality=\"electron microscopy\"\n",
    "test_type=\"network structure\"\n",
    "score_type=\"Other\"\n",
    "protocol=\"Tests a set of cell's morphological features in a digitally reconstructed neuron\"\n",
    "data_location=\"collab://8123/test_observations/morphounit/FSI_morpho_features_NeuroM.json\"\n",
    "data_type=\"Morphology\"\n",
    "publication=\"Cutuli (2011), DOI:10.1016/j.nbd.2010.12.007; Ransome (2005), DOI:10.1016/j.neuroscience.2004.12.041; Tepper (2010), DOI:10.3389/fnana.2010.00150; Gittis (2011), DOI:10.1016/j.neuron.2011.06.035; Plenz and Kitai (1998), J Neurosci. 18(1):266-83.\"\n",
    "repository=\"https://github.com/pedroernesto/morphounit.git\"\n",
    "path=\"morphounit.tests.NeuroM_MorphStats_Test\"\n",
    "\n",
    "from hbp_validation_framework import TestLibrary\n",
    "HBP_USERNAME = \"pedroernesto\"\n",
    "test_library = TestLibrary(username=HBP_USERNAME, environment=\"production\")\n",
    "\n",
    "test = test_library.add_test(name=name, alias=alias, version=version, author=author,\n",
    "                        species=species, age=age, brain_region=brain_region, cell_type=cell_type,\n",
    "                        data_modality=data_modality, test_type=test_type, score_type=score_type,\n",
    "                        data_location=data_location, data_type=data_type, publication=publication,\n",
    "                        repository=repository, path=path)\n"
   ]
  },
  {
   "cell_type": "code",
   "execution_count": null,
   "metadata": {},
   "outputs": [],
   "source": [
    "# Create a new model entry in the ModelCatalog; metadata to be used for registering model\n",
    "from hbp_validation_framework import ModelCatalog, TestLibrary\n",
    "HBP_USERNAME = \"pedroernesto\"\n",
    "env=\"production\"\n",
    "testLibrary = TestLibrary(username=HBP_USERNAME, environment=env)\n",
    "model_catalog = ModelCatalog.from_existing(testLibrary)\n",
    "\n",
    "model = model_catalog.register_model(app_id=\"39968\", name=\"Reconstructed cell's morphology\",\n",
    "                alias=\"NeuroM-MorphStats-Model\", author=\"Alexander Koslov\", organization=\"HBP-SP6\",\n",
    "                private=True, cell_type=\"Fast spiking interneuron\", model_type=\"Single Cell\",\n",
    "                brain_region=\"Striatum\", species=\"Other\",\n",
    "                instances=[{\"source\":\"https://github.com/pedroernesto/VF_test_models\",\n",
    "                            \"version\":\"1.0\", \"parameters\":\"\"}],\n",
    "                description=\"A class to interact with morphology files via the morphometrics-NeuroM's API (morph_stats)\")"
   ]
  },
  {
   "cell_type": "code",
   "execution_count": null,
   "metadata": {
    "scrolled": true
   },
   "outputs": [],
   "source": [
    "!pip uninstall --yes morphounit\n",
    "#!pip install --upgrade --quiet git+https://github.com/pedroernesto/morphounit.git\n",
    "!pip install --quiet /home/pedroernesto/Documents/Project/Code/Models_Validation/Validation/ValidationTests/morphounit\n",
    "\n",
    "from morphounit.utils import NeuroM_MorphStats, NeuroM_MorphStats_pop\n",
    "# models_path = 'str-fs_pv-20170919'\n",
    "models_path = './str-fs_excert/'\n",
    "\n",
    "import os\n",
    "obs_path = os.path.expanduser('~/Documents/Project/Code/Models_Validation/Validation/ValidationTests/morphounit_expData')\n",
    "obs_file = os.path.join(obs_path, 'fs_morpho_stats_NeuroM.json')\n",
    "\n",
    "import json\n",
    "fp = open(obs_file, 'r+')\n",
    "observation = json.load(fp)\n",
    "fp.close()\n",
    "\n",
    "## Testing the average from the whole POPULATION\n",
    "import morphounit.tests\n",
    "\n",
    "# First login in into the production version of the VF\n",
    "from hbp_validation_framework import utils, ModelCatalog\n",
    "HBP_USERNAME = \"pedroernesto\"\n",
    "# x=ModelCatalog(username=HBP_USERNAME)"
   ]
  },
  {
   "cell_type": "code",
   "execution_count": null,
   "metadata": {},
   "outputs": [],
   "source": [
    "## Testing the average values from a whole population\n",
    "# config_path = 'fs_cells_morph_stats_config.yaml'\n",
    "# config_path_pop = 'fs_pop_morph_stats_config.yaml'\n",
    "\n",
    "# stats_file = 'fs_cells_NeuroM_MorphStats_pred.json'\n",
    "# stats_file_pop = 'fs_pop_NeuroM_MorphStats_pred.json'\n",
    "\n",
    "model_name = 'population_'+models_path.split(\"/\")[-1] # Cells-dir\n",
    "model2Test = NeuroM_MorphStats_pop(model_name=model_name, morph_path=models_path)\n",
    "\n",
    "test = morphounit.tests.NeuroM_MorphStats_pop_Test(observation=observation)\n",
    "\n",
    "print 'Testing ----> ', model_name, '\\n\\n'\n",
    "test.generate_prediction(model=model2Test)\n",
    "# score = test.judge(model2Test, deep_error=True)"
   ]
  },
  {
   "cell_type": "code",
   "execution_count": null,
   "metadata": {
    "scrolled": false
   },
   "outputs": [],
   "source": [
    "## Testing the morpho-feature values cell by cell\n",
    "config_path = 'FSI_morph_stats_config.yaml'\n",
    "stats_file = 'fs_cells_NeuroM_MorphStats_pred.json'\n",
    "\n",
    "test = morphounit.tests.NeuroM_MorphStats_Test(observation=observation)\n",
    "\n",
    "result_uuids = []\n",
    "test_instance_id='5d7334d7-a406-470a-a8fe-2d10a88ec4e7'\n",
    "morph_files = os.listdir(models_path)\n",
    "for file_name in morph_files:\n",
    "\n",
    "    morph_path = os.path.join(models_path, file_name)\n",
    "    model_name = (file_name.split(\"/\")[-1]).split(\".\")[0] # Cell-ID\n",
    "    model2Test = NeuroM_MorphStats(model_name=model_name, morph_path=morph_path,\n",
    "                                   config_path=config_path, morph_stats_file=stats_file)\n",
    "\n",
    "    print morph_path, \"---\", model_name, '\\n\\n'\n",
    "    score = test.judge(model2Test, deep_error=True)\n",
    "\n",
    "    # result_id = utils.run_test(environment=\"dev\", hbp_username=\"pedroernesto\", model=model2Test, \n",
    "    #               test_instance_id=test_instance_id, test_version=\"2.0\")\n",
    "    # result_uuids.append(result_id)"
   ]
  },
  {
   "cell_type": "code",
   "execution_count": null,
   "metadata": {},
   "outputs": [],
   "source": [
    "report_path = None\n",
    "if len(result_uuids) > 0:\n",
    "    print(\"\\nDo you wish to generate a report of the tests executed?\")\n",
    "    print(\"Enter: y/n\")\n",
    "    choice = raw_input().lower()\n",
    "    valid_choices = {\"yes\": True, \"y\": True, \"no\": False, \"n\": False}\n",
    "    if valid_choices[choice]:\n",
    "        valid_uuids, report_path = utils.generate_report(hbp_username=HBP_USERNAME, environment=\"dev\", \n",
    "                                                         result_list=result_uuids, only_combined=True)"
   ]
  },
  {
   "cell_type": "code",
   "execution_count": null,
   "metadata": {},
   "outputs": [],
   "source": [
    "print report_path\n",
    "if report_path:\n",
    "    rel_report_path = os.path.relpath(report_path)\n",
    "    from IPython.display import IFrame    \n",
    "    display(IFrame(rel_report_path, width=900, height=650))"
   ]
  },
  {
   "cell_type": "code",
   "execution_count": null,
   "metadata": {
    "scrolled": false
   },
   "outputs": [],
   "source": [
    "import json\n",
    "\n",
    "\n",
    "!morph_stats --as-population -C fs_pop_morph_stats_config.yaml -o population.json str-fs_excert/\n",
    "with open('./population.json', 'r') as fp:\n",
    "          output_pop = json.load(fp)\n",
    "print json.dumps(output_pop, sort_keys=True, indent=4)\n",
    "\n",
    "\n",
    "!morph_stats -C fs_cells_morph_stats_config.yaml -o cells.json str-fs_excert/\n",
    "with open('./cells.json', 'r') as fp:\n",
    "          output = json.load(fp)\n",
    "print json.dumps(output, sort_keys=True, indent=4)"
   ]
  },
  {
   "cell_type": "code",
   "execution_count": null,
   "metadata": {},
   "outputs": [],
   "source": [
    "import neurom as nm\n",
    "\n",
    "print '---------------------./str-fs_excert/C170897A-I1-rep-cor.swc \\n\\n'\n",
    "\n",
    "nrn_pop = nm.load_neuron('./str-fs_excert/C170897A-I1-rep-cor.swc')\n",
    "\n",
    "neurite_lengths = nm.get('neurite_lengths', nrn_pop, neurite_type=nm.BASAL_DENDRITE)\n",
    "print 'neurite_lengths \\n ', neurite_lengths, '\\n\\n'\n",
    "\n",
    "number_of_neurites = nm.get('number_of_neurites', nrn_pop, neurite_type=nm.BASAL_DENDRITE)\n",
    "print 'number_of_neurites \\n ', number_of_neurites, '\\n\\n'\n",
    "\n",
    "section_branch_orders = nm.get('section_branch_orders', nrn_pop, neurite_type=nm.BASAL_DENDRITE)\n",
    "print 'section_branch_orders \\n ', section_branch_orders, '\\n\\n'\n",
    "\n",
    "\n",
    "print '-------------------./str-fs_excert/C310106C-rep-cor.swc ------------- \\n\\n'\n",
    "\n",
    "nrn_pop = nm.load_neuron('./str-fs_excert/C310106C-rep-cor.swc')\n",
    "\n",
    "neurite_lengths = nm.get('neurite_lengths', nrn_pop, neurite_type=nm.BASAL_DENDRITE)\n",
    "print 'neurite_lengths \\n ', neurite_lengths, '\\n\\n'\n",
    "\n",
    "number_of_neurites = nm.get('number_of_neurites', nrn_pop, neurite_type=nm.BASAL_DENDRITE)\n",
    "print 'number_of_neurites \\n ', number_of_neurites, '\\n\\n'\n",
    "\n",
    "section_branch_orders = nm.get('section_branch_orders', nrn_pop, neurite_type=nm.BASAL_DENDRITE)\n",
    "print 'section_branch_orders \\n', section_branch_orders, '\\n\\n'\n",
    "\n",
    "\n",
    "print '----------------------POPULATION-------------- \\n'\n",
    "\n",
    "nrn_pop = nm.load_neurons('./str-fs_excert/')\n",
    "\n",
    "neurite_lengths = nm.get('neurite_lengths', nrn_pop, neurite_type=nm.BASAL_DENDRITE)\n",
    "print 'neurite_lengths \\n',neurite_lengths, '\\n\\n'\n",
    "\n",
    "number_of_neurites = nm.get('number_of_neurites', nrn_pop, neurite_type=nm.BASAL_DENDRITE)\n",
    "print 'number_of_neurites \\n', number_of_neurites, '\\n\\n'\n",
    "\n",
    "section_branch_orders = nm.get('section_branch_orders', nrn_pop, neurite_type=nm.BASAL_DENDRITE)\n",
    "print 'section_branch_orders \\n',section_branch_orders, '\\n\\n'"
   ]
  },
  {
   "cell_type": "code",
   "execution_count": null,
   "metadata": {},
   "outputs": [],
   "source": [
    "import matplotlib.pyplot as plt\n",
    "plt.figure()\n",
    "plt.hist(neurite_lengths, 50)\n",
    "\n",
    "plt.figure()\n",
    "plt.hist(number_of_neurites, 30)\n",
    "\n",
    "plt.figure()\n",
    "plt.hist(section_branch_orders, 30)"
   ]
  }
 ],
 "metadata": {
  "kernelspec": {
   "display_name": "Python 2",
   "language": "python",
   "name": "python2"
  },
  "language_info": {
   "codemirror_mode": {
    "name": "ipython",
    "version": 2
   },
   "file_extension": ".py",
   "mimetype": "text/x-python",
   "name": "python",
   "nbconvert_exporter": "python",
   "pygments_lexer": "ipython2",
   "version": "2.7.13"
  }
 },
 "nbformat": 4,
 "nbformat_minor": 2
}
