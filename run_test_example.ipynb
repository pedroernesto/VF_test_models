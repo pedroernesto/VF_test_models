{
 "cells": [
  {
   "cell_type": "code",
   "execution_count": null,
   "metadata": {},
   "outputs": [],
   "source": [
    "\"\"\"\n",
    "!pip install -q sciunit\n",
    "!pip install -q neo\n",
    "!pip install -q elephant\n",
    "!pip install -q gitpython\n",
    "!pip install -q efel\n",
    "\"\"\""
   ]
  },
  {
   "cell_type": "code",
   "execution_count": null,
   "metadata": {},
   "outputs": [],
   "source": [
    "#!pip install scipy seaborn\n",
    "!pip install -U git+https://github.com/appukuttan-shailesh/hbp-validation-client.git\n",
    "#!pip install --quiet fpdf PyPDF2 tabulate\n",
    "#!pip install ./bbp-services-0.0.15/ ./task-types-0.0.10/ \n",
    "!pip install hbp_service_client"
   ]
  },
  {
   "cell_type": "code",
   "execution_count": null,
   "metadata": {
    "scrolled": true
   },
   "outputs": [],
   "source": [
    "# First login in into the production version of the VF\n",
    "from hbp_validation_framework import utils, ModelCatalog\n",
    "x=ModelCatalog(username='pedroernesto')\n",
    "\n",
    "import models\n",
    "model_path = './str-fs_excert'\n",
    "config_path = './morph_stats_config.yaml'\n",
    "pred_path = './models/model_predictions'\n",
    "stats_file = 'NeuroM_MorphStats_prediction.json'\n",
    "\n",
    "model2Test = models.NeuroM_MorphStats(model_path=model_path, config_path=config_path, pred_path=pred_path, stats_file=stats_file) \n",
    "# model2Test = models.CA1_laminar_distribution_synapses() \n",
    "utils.run_test(environment=\"dev\", hbp_username=\"pedroernesto\", model=model2Test, test_alias=\"morph_stats_Test\", test_version=\"2.0\")"
   ]
  },
  {
   "cell_type": "code",
   "execution_count": null,
   "metadata": {},
   "outputs": [],
   "source": []
  }
 ],
 "metadata": {
  "kernelspec": {
   "display_name": "Python 2",
   "language": "python",
   "name": "python2"
  },
  "language_info": {
   "codemirror_mode": {
    "name": "ipython",
    "version": 2
   },
   "file_extension": ".py",
   "mimetype": "text/x-python",
   "name": "python",
   "nbconvert_exporter": "python",
   "pygments_lexer": "ipython2",
   "version": "2.7.13"
  }
 },
 "nbformat": 4,
 "nbformat_minor": 2
}
