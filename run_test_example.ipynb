{
 "cells": [
  {
   "cell_type": "code",
   "execution_count": null,
   "metadata": {},
   "outputs": [],
   "source": [
    "\"\"\"\n",
    "!pip install -q sciunit\n",
    "!pip install -q neo\n",
    "!pip install -q elephant\n",
    "!pip install -q gitpython\n",
    "!pip install -q efel\n",
    "\"\"\""
   ]
  },
  {
   "cell_type": "code",
   "execution_count": null,
   "metadata": {},
   "outputs": [],
   "source": [
    "!pip install scipy seaborn\n",
    "!pip install -U git+https://github.com/appukuttan-shailesh/hbp-validation-client.git\n",
    "!pip install --quiet fpdf PyPDF2 tabulate\n",
    "!pip install ./bbp-services-0.0.15/ ./task-types-0.0.10/ hbp_service_client"
   ]
  },
  {
   "cell_type": "code",
   "execution_count": 1,
   "metadata": {
    "scrolled": false
   },
   "outputs": [
    {
     "name": "stderr",
     "output_type": "stream",
     "text": [
      "/home/pedroernesto/miniconda2/lib/python2.7/site-packages/pandas/core/nanops.py:39: UserWarning: The installed version of bottleneck 0.8.0 is not supported in pandas and will be not be used\n",
      "The minimum supported version is 1.0.0\n",
      "\n",
      "  ver=ver, min_ver=_MIN_BOTTLENECK_VERSION), UserWarning)\n"
     ]
    },
    {
     "name": "stdout",
     "output_type": "stream",
     "text": [
      "----------------------------------------------\n",
      "('Model name: ', 'CA1_laminar_distribution_synapses')\n",
      "('Model type: ', <class 'models.CA1_laminar_distribution_synapses'>)\n",
      "----------------------------------------------\n",
      "----------------------------------------------\n",
      "('Test name: ', 'CA1 laminar_distribution_synapses Test')\n",
      "('Test type: ', <class 'HippoNetworkUnit.tests.test_CA1_laminar_distribution_synapses_FreemanTukey1.CA1_laminar_distribution_synapses_FreemanTukey1Test'>)\n",
      "----------------------------------------------\n",
      "       FreemanTukey1-score   p-value\n",
      "AA                1.352743  0.098159\n",
      "BP                1.075224  0.915977\n",
      "BS                1.100946  0.926553\n",
      "CCKBC             0.260937  0.514982\n",
      "Ivy               1.198244  0.961850\n",
      "OLM               1.277291  0.106840\n",
      "PC                0.355081  0.286855\n",
      "PPA               1.414214  0.091578\n",
      "SCA               1.111951  0.930936\n",
      "Tri               0.160865  0.471068 \n",
      "\n",
      "----------------------------------------------\n",
      "('Score: ', 0.35508053577210141)\n",
      "Output files: \n",
      "./output/CA1_laminar_distribution_synapses/FreemanTukey1Score_plot.png\n",
      "----------------------------------------------\n",
      "Result registered successfully!\n"
     ]
    },
    {
     "data": {
      "text/plain": [
       "u'f39b3019-3a56-4eb8-b566-a30102d97309'"
      ]
     },
     "execution_count": 1,
     "metadata": {},
     "output_type": "execute_result"
    }
   ],
   "source": [
    "import models\n",
    "model2Test = models.CA1_laminar_distribution_synapses() \n",
    "from hbp_validation_framework import utils\n",
    "utils.run_test(environment=\"production\", hbp_username=\"pedroernesto\", model=model2Test, test_alias=\"CA1-LDsyn-FT1-gof-Test\", test_version=\"1.0\")\n"
   ]
  },
  {
   "cell_type": "code",
   "execution_count": null,
   "metadata": {},
   "outputs": [],
   "source": []
  }
 ],
 "metadata": {
  "kernelspec": {
   "display_name": "Python 2",
   "language": "python",
   "name": "python2"
  },
  "language_info": {
   "codemirror_mode": {
    "name": "ipython",
    "version": 2
   },
   "file_extension": ".py",
   "mimetype": "text/x-python",
   "name": "python",
   "nbconvert_exporter": "python",
   "pygments_lexer": "ipython2",
   "version": "2.7.13"
  }
 },
 "nbformat": 4,
 "nbformat_minor": 2
}
