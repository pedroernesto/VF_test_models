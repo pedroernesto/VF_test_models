{
 "cells": [
  {
   "cell_type": "code",
   "execution_count": null,
   "metadata": {},
   "outputs": [],
   "source": [
    "\"\"\"\n",
    "!pip install -q sciunit\n",
    "!pip install -q neo\n",
    "!pip install -q elephant\n",
    "!pip install -q gitpython\n",
    "!pip install -q efel\n",
    "\"\"\""
   ]
  },
  {
   "cell_type": "code",
   "execution_count": null,
   "metadata": {},
   "outputs": [],
   "source": [
    "#!pip install scipy seaborn\n",
    "!pip install -U git+https://github.com/appukuttan-shailesh/hbp-validation-client.git\n",
    "#!pip install --quiet fpdf PyPDF2 tabulate\n",
    "#!pip install ./bbp-services-0.0.15/ ./task-types-0.0.10/ \n",
    "!pip install hbp_service_client"
   ]
  },
  {
   "cell_type": "code",
   "execution_count": null,
   "metadata": {},
   "outputs": [],
   "source": [
    "# Register a new test on the test library\n",
    "name=\"NeuroM morpho-stats Test\"\n",
    "alias=\"morph_stats_Test\"\n",
    "version=\"2.0\"\n",
    "author=\"Pedro Garcia-Rodriguez\"\n",
    "species=\"Undefined\"\n",
    "age=\"Any\"\n",
    "brain_region=\"Striatum\"\n",
    "cell_type=\"Other\"\n",
    "data_modality=\"electron microscopy\"\n",
    "test_type=\"network structure\"\n",
    "score_type=\"Other\"\n",
    "protocol=\"Tests a set of cell's morphological features in a digitally reconstructed neuron\"\n",
    "data_location=\"collab://8123/test_observations/morphounit/FSI_morpho_features_NeuroM.json\"\n",
    "data_type=\"Morphology\"\n",
    "publication=\"Cutuli (2011), DOI:10.1016/j.nbd.2010.12.007, Ransome 92005), DOI:10.1016/j.neuroscience.2004.12.041, Tepper (2010), DOI:10.3389/fnana.2010.00150, Gittis (2011), DOI:10.1016/j.neuron.2011.06.035\"\n",
    "repository=\"https://github.com/pedroernesto/morphounit.git\"\n",
    "path=\"morphounit.tests.NeuroM_MorphStats_Test\"\n",
    "\n",
    "from hbp_validation_framework import TestLibrary\n",
    "HBP_USERNAME = \"pedroernesto\"\n",
    "test_library = TestLibrary(username=HBP_USERNAME, environment=\"prod\")\n",
    "\n",
    "test = test_library.add_test(name=name, alias=alias, version=version, author=author,\n",
    "                        species=species, age=age, brain_region=brain_region, cell_type=cell_type,\n",
    "                        data_modality=data_modality, test_type=test_type, score_type=score_type,\n",
    "                        data_location=data_location, data_type=data_type, publication=publication,\n",
    "                        repository=repository, path=path)\n"
   ]
  },
  {
   "cell_type": "code",
   "execution_count": null,
   "metadata": {},
   "outputs": [],
   "source": [
    "# Create a new model entry in the ModelCatalog; metadata to be used for registering model\n",
    "from hbp_validation_framework import ModelCatalog, TestLibrary\n",
    "HBP_USERNAME = \"pedroernesto\"\n",
    "env=\"prod\"\n",
    "testLibrary = TestLibrary(username=HBP_USERNAME, environment=env)\n",
    "model_catalog = ModelCatalog.from_existing(testLibrary)\n",
    "\n",
    "model = model_catalog.register_model(app_id=\"39968\", name=\"Reconstructed cell's morphology\",\n",
    "                alias=\"NeuroM-MorphStats-Model\", author=\"Alexander Koslov\", organization=\"HBP-SP6\",\n",
    "                private=True, cell_type=\"Fast spiking interneuron\", model_type=\"Single Cell\",\n",
    "                brain_region=\"Striatum\", species=\"Other\",\n",
    "                instances=[{\"source\":\"https://github.com/pedroernesto/VF_test_models\",\n",
    "                            \"version\":\"1.0\", \"parameters\":\"\"}],\n",
    "                description=\"A class to interact with morphology files via the morphometrics-NeuroM's API (morph_stats)\")"
   ]
  },
  {
   "cell_type": "code",
   "execution_count": 1,
   "metadata": {
    "scrolled": true
   },
   "outputs": [
    {
     "name": "stderr",
     "output_type": "stream",
     "text": [
      "/home/pedroernesto/miniconda2/lib/python2.7/site-packages/pandas/core/nanops.py:39: UserWarning: The installed version of bottleneck 0.8.0 is not supported in pandas and will be not be used\n",
      "The minimum supported version is 1.0.0\n",
      "\n",
      "  ver=ver, min_ver=_MIN_BOTTLENECK_VERSION), UserWarning)\n"
     ]
    },
    {
     "name": "stdout",
     "output_type": "stream",
     "text": [
      "----------------------------------------------\n",
      "('Model name: ', 'NeuroM_MorphStats')\n",
      "('Model type: ', <class 'models.NeuroM_MorphStats'>)\n",
      "----------------------------------------------\n",
      "----------------------------------------------\n",
      "('Test name: ', \"Cell's morpho-stats test\")\n",
      "('Test type: ', <class 'morphounit.tests.test_NeuroM_MorphStats.NeuroM_MorphStats_Test'>)\n",
      "----------------------------------------------\n",
      "----------------------------------------------\n",
      "('Score: ', 1.6712532029819436)\n",
      "Output files: \n",
      "./models/model_predictions/NeuroM_MorphStats_prediction.json\n",
      "./validation_results/neuroM_morph_softChecks/NeuroM_MorphStats/20180413-171026/score_summary_BE43D-rep-cor.txt\n",
      "./validation_results/neuroM_morph_softChecks/NeuroM_MorphStats/20180413-171026/score_summary_BE45F-rep-cor.txt\n",
      "./validation_results/neuroM_morph_softChecks/NeuroM_MorphStats/20180413-171026/score_summary_030225-5-PV-rep-cor.txt\n",
      "./validation_results/neuroM_morph_softChecks/NeuroM_MorphStats/20180413-171026/score_summary_BE37A-rep-cor.txt\n",
      "./validation_results/neuroM_morph_softChecks/NeuroM_MorphStats/20180413-171026/score_bars_morpho_features_BE43D-rep-cor.png\n",
      "./validation_results/neuroM_morph_softChecks/NeuroM_MorphStats/20180413-171026/score_bars_morpho_features_BE45F-rep-cor.png\n",
      "./validation_results/neuroM_morph_softChecks/NeuroM_MorphStats/20180413-171026/score_bars_morpho_features_BE37A-rep-cor.png\n",
      "./validation_results/neuroM_morph_softChecks/NeuroM_MorphStats/20180413-171026/score_bars_morpho_features_030225-5-PV-rep-cor.png\n",
      "----------------------------------------------\n",
      "Result registered successfully!\n"
     ]
    },
    {
     "data": {
      "text/plain": [
       "u'0203a2fd-d8c5-45af-878f-c7126e7c6342'"
      ]
     },
     "execution_count": 1,
     "metadata": {},
     "output_type": "execute_result"
    }
   ],
   "source": [
    "# First login in into the production version of the VF\n",
    "from hbp_validation_framework import utils, ModelCatalog\n",
    "x=ModelCatalog(username='pedroernesto')\n",
    "\n",
    "import models\n",
    "model_path = './str-fs_excert'\n",
    "config_path = './morph_stats_config.yaml'\n",
    "pred_path = './models/model_predictions'\n",
    "stats_file = 'NeuroM_MorphStats_output.json'\n",
    "\n",
    "model2Test = models.NeuroM_MorphStats(model_path=model_path, config_path=config_path, pred_path=pred_path, stats_file=stats_file) \n",
    "# model2Test = models.CA1_laminar_distribution_synapses() \n",
    "utils.run_test(environment=\"prod\", hbp_username=\"pedroernesto\", model=model2Test, test_alias=\"morph_stats_Test\", test_version=\"2.0\")"
   ]
  },
  {
   "cell_type": "code",
   "execution_count": null,
   "metadata": {},
   "outputs": [],
   "source": []
  }
 ],
 "metadata": {
  "kernelspec": {
   "display_name": "Python 2",
   "language": "python",
   "name": "python2"
  },
  "language_info": {
   "codemirror_mode": {
    "name": "ipython",
    "version": 2
   },
   "file_extension": ".py",
   "mimetype": "text/x-python",
   "name": "python",
   "nbconvert_exporter": "python",
   "pygments_lexer": "ipython2",
   "version": "2.7.13"
  }
 },
 "nbformat": 4,
 "nbformat_minor": 2
}
