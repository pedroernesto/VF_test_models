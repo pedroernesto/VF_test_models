{
 "cells": [
  {
   "cell_type": "code",
   "execution_count": null,
   "metadata": {},
   "outputs": [],
   "source": [
    "\"\"\"\n",
    "!pip install -q sciunit\n",
    "!pip install -q neo\n",
    "!pip install -q elephant\n",
    "!pip install -q gitpython\n",
    "!pip install -q efel\n",
    "\"\"\""
   ]
  },
  {
   "cell_type": "code",
   "execution_count": null,
   "metadata": {},
   "outputs": [],
   "source": [
    "#!pip install scipy seaborn\n",
    "!pip install -U git+https://github.com/appukuttan-shailesh/hbp-validation-client.git\n",
    "#!pip install --quiet fpdf PyPDF2 tabulate\n",
    "#!pip install ./bbp-services-0.0.15/ ./task-types-0.0.10/ \n",
    "!pip install hbp_service_client"
   ]
  },
  {
   "cell_type": "code",
   "execution_count": null,
   "metadata": {},
   "outputs": [],
   "source": [
    "# Register a new test on the test library\n",
    "name=\"NeuroM morpho-stats Test\"\n",
    "alias=\"morph_stats_Test\"\n",
    "version=\"2.0\"\n",
    "author=\"Pedro Garcia-Rodriguez\"\n",
    "species=\"Undefined\"\n",
    "age=\"Any\"\n",
    "brain_region=\"Striatum\"\n",
    "cell_type=\"Other\"\n",
    "data_modality=\"electron microscopy\"\n",
    "test_type=\"network structure\"\n",
    "score_type=\"Other\"\n",
    "protocol=\"Tests a set of cell's morphological features in a digitally reconstructed neuron\"\n",
    "data_location=\"collab://8123/test_observations/morphounit/FSI_morpho_features_NeuroM.json\"\n",
    "data_type=\"Morphology\"\n",
    "publication=\"Cutuli (2011), DOI:10.1016/j.nbd.2010.12.007, Ransome 92005), DOI:10.1016/j.neuroscience.2004.12.041, Tepper (2010), DOI:10.3389/fnana.2010.00150, Gittis (2011), DOI:10.1016/j.neuron.2011.06.035\"\n",
    "repository=\"https://github.com/pedroernesto/morphounit.git\"\n",
    "path=\"morphounit.tests.NeuroM_MorphStats_Test\"\n",
    "\n",
    "from hbp_validation_framework import TestLibrary\n",
    "HBP_USERNAME = \"pedroernesto\"\n",
    "test_library = TestLibrary(username=HBP_USERNAME, environment=\"prod\")\n",
    "\n",
    "test = test_library.add_test(name=name, alias=alias, version=version, author=author,\n",
    "                        species=species, age=age, brain_region=brain_region, cell_type=cell_type,\n",
    "                        data_modality=data_modality, test_type=test_type, score_type=score_type,\n",
    "                        data_location=data_location, data_type=data_type, publication=publication,\n",
    "                        repository=repository, path=path)\n"
   ]
  },
  {
   "cell_type": "code",
   "execution_count": null,
   "metadata": {},
   "outputs": [],
   "source": [
    "# Create a new model entry in the ModelCatalog; metadata to be used for registering model\n",
    "from hbp_validation_framework import ModelCatalog, TestLibrary\n",
    "HBP_USERNAME = \"pedroernesto\"\n",
    "env=\"prod\"\n",
    "testLibrary = TestLibrary(username=HBP_USERNAME, environment=env)\n",
    "model_catalog = ModelCatalog.from_existing(testLibrary)\n",
    "\n",
    "model = model_catalog.register_model(app_id=\"39968\", name=\"Reconstructed cell's morphology\",\n",
    "                alias=\"NeuroM-MorphStats-Model\", author=\"Alexander Koslov\", organization=\"HBP-SP6\",\n",
    "                private=True, cell_type=\"Fast spiking interneuron\", model_type=\"Single Cell\",\n",
    "                brain_region=\"Striatum\", species=\"Other\",\n",
    "                instances=[{\"source\":\"https://github.com/pedroernesto/VF_test_models\",\n",
    "                            \"version\":\"1.0\", \"parameters\":\"\"}],\n",
    "                description=\"A class to interact with morphology files via the morphometrics-NeuroM's API (morph_stats)\")"
   ]
  },
  {
   "cell_type": "code",
   "execution_count": 1,
   "metadata": {
    "scrolled": true
   },
   "outputs": [
    {
     "name": "stderr",
     "output_type": "stream",
     "text": [
      "/home/pedroernesto/miniconda2/lib/python2.7/site-packages/pandas/core/nanops.py:39: UserWarning: The installed version of bottleneck 0.8.0 is not supported in pandas and will be not be used\n",
      "The minimum supported version is 1.0.0\n",
      "\n",
      "  ver=ver, min_ver=_MIN_BOTTLENECK_VERSION), UserWarning)\n"
     ]
    }
   ],
   "source": [
    "import models\n",
    "# model_path = 'str-fs_pv-20170919'\n",
    "models_path = './str-fs_excert'\n",
    "config_path = './FSI_morph_stats_config.yaml'\n",
    "stats_file = 'NeuroM_MorphStats_output.json'\n",
    "\n",
    "# model2Test = models.CA1_laminar_distribution_synapses()"
   ]
  },
  {
   "cell_type": "code",
   "execution_count": 2,
   "metadata": {},
   "outputs": [
    {
     "name": "stdout",
     "output_type": "stream",
     "text": [
      "Uninstalling morphounit-0.3:\r\n",
      "  Successfully uninstalled morphounit-0.3\r\n"
     ]
    }
   ],
   "source": [
    "!pip uninstall --yes morphounit\n",
    "!pip install --quiet ~/Documents/Project/Code/Models_Validation/Validation/ValidationTests/morphounit/\n",
    "\n",
    "import os\n",
    "obs_path = '/home/pedroernesto/Documents/Project/Code/Models_Validation/Validation/ValidationTests/morphounit_expData'\n",
    "obs_file = os.path.join(obs_path, 'FSI_morpho_stats_NeuroM.json')\n",
    "\n",
    "import json\n",
    "fp = open(obs_file, 'r+')\n",
    "observation = json.load(fp)\n",
    "fp.close()\n",
    "\n",
    "import morphounit.tests\n",
    "\n",
    "test = morphounit.tests.NeuroM_MorphStats_Test(observation=observation)"
   ]
  },
  {
   "cell_type": "code",
   "execution_count": null,
   "metadata": {
    "scrolled": true
   },
   "outputs": [],
   "source": [
    "morph_files = os.listdir(models_path)\n",
    "\n",
    "for file_name in morph_files:\n",
    "    morph_path = os.path.join(models_path, file_name)\n",
    "    model_name = (file_name.split(\"/\")[-1]).split(\".\")[0] # Cell-ID\n",
    "                  \n",
    "    print morph_path, \"---\", model_name, '\\n\\n'\n",
    "    model2Test = models.NeuroM_MorphStats(model_name=model_name, morph_path=morph_path, \n",
    "                                          config_path=config_path, morph_stats_file=stats_file)\n",
    "\n",
    "    # test.generate_prediction(model=model2Test)\n",
    "\n",
    "    score = test.judge(model2Test, deep_error=True)    "
   ]
  },
  {
   "cell_type": "code",
   "execution_count": null,
   "metadata": {},
   "outputs": [],
   "source": [
    "# First login in into the production version of the VF\n",
    "from hbp_validation_framework import utils, ModelCatalog\n",
    "x=ModelCatalog(username='pedroernesto')\n",
    "utils.run_test(environment=\"dev\", hbp_username=\"pedroernesto\", model=model2Test, test_alias=\"morph_stats_Test\", test_version=\"2.0\")"
   ]
  }
 ],
 "metadata": {
  "kernelspec": {
   "display_name": "Python 2",
   "language": "python",
   "name": "python2"
  },
  "language_info": {
   "codemirror_mode": {
    "name": "ipython",
    "version": 2
   },
   "file_extension": ".py",
   "mimetype": "text/x-python",
   "name": "python",
   "nbconvert_exporter": "python",
   "pygments_lexer": "ipython2",
   "version": "2.7.13"
  }
 },
 "nbformat": 4,
 "nbformat_minor": 2
}
