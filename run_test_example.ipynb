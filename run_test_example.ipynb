{
 "cells": [
  {
   "cell_type": "code",
   "execution_count": 1,
   "metadata": {},
   "outputs": [
    {
     "name": "stdout",
     "output_type": "stream",
     "text": [
      "----------------------------------------------\n",
      "('Model name: ', CA1_laminar_distribution_synapses)\n",
      "('Model type: ', <class 'models.CA1_laminar_distribution_synapses'>)\n",
      "----------------------------------------------\n",
      "----------------------------------------------\n",
      "('Test name: ', CA1 laminar_distribution_synapses Test)\n",
      "('Test type: ', <class 'HippoNetworkUnit.tests.test_CA1_laminar_distribution_synapses.CA1_laminar_distribution_synapses_Test'>)\n",
      "----------------------------------------------\n",
      "                     AA        BP        BS    CCKBC       Ivy       OLM  \\\n",
      "FreemanTukey-score  8.0  0.958807  1.049083  3.46011  0.647983  7.612724   \n",
      "\n",
      "                          PC  PPA       SCA       Tri  \n",
      "FreemanTukey-score  5.004319  8.0  0.692569  4.149657   \n",
      "\n",
      "----------------------------------------------\n",
      "('Score: ', 5.00432)\n",
      "Output files: \n",
      "./output/CA1_laminar_distribution_synapses/FreemanTukeyScore_plot.pdf\n",
      "----------------------------------------------\n",
      "Result registered successfully!\n"
     ]
    },
    {
     "data": {
      "text/plain": [
       "u'6c7f8655-b681-4eaa-b094-c1f740f941bf'"
      ]
     },
     "execution_count": 1,
     "metadata": {},
     "output_type": "execute_result"
    }
   ],
   "source": [
    "import models\n",
    "model2Test = models.CA1_laminar_distribution_synapses() \n",
    "from hbp_validation_framework import utils\n",
    "utils.run_test(environment=\"dev\", hbp_username=\"pedroernesto\", model=model2Test, test_alias=\"CA1-LDsynapses-Test\", test_version=\"1.0\")"
   ]
  }
 ],
 "metadata": {
  "kernelspec": {
   "display_name": "Python 2",
   "language": "python",
   "name": "python2"
  },
  "language_info": {
   "codemirror_mode": {
    "name": "ipython",
    "version": 2
   },
   "file_extension": ".py",
   "mimetype": "text/x-python",
   "name": "python",
   "nbconvert_exporter": "python",
   "pygments_lexer": "ipython2",
   "version": "2.7.13"
  }
 },
 "nbformat": 4,
 "nbformat_minor": 2
}
