{
 "cells": [
  {
   "cell_type": "code",
   "execution_count": null,
   "metadata": {},
   "outputs": [],
   "source": [
    "\"\"\"\n",
    "!pip install -q sciunit\n",
    "!pip install -q neo\n",
    "!pip install -q elephant\n",
    "!pip install -q gitpython\n",
    "!pip install -q efel\n",
    "\"\"\""
   ]
  },
  {
   "cell_type": "code",
   "execution_count": null,
   "metadata": {},
   "outputs": [],
   "source": [
    "!pip install scipy seaborn\n",
    "!pip install -U git+https://github.com/appukuttan-shailesh/hbp-validation-client.git\n",
    "!pip install --quiet fpdf PyPDF2 tabulate\n",
    "!pip install ./bbp-services-0.0.15/ ./task-types-0.0.10/ hbp_service_client"
   ]
  },
  {
   "cell_type": "code",
   "execution_count": 1,
   "metadata": {
    "scrolled": false
   },
   "outputs": [
    {
     "name": "stderr",
     "output_type": "stream",
     "text": [
      "/home/pedroernesto/miniconda2/lib/python2.7/site-packages/pandas/core/nanops.py:39: UserWarning: The installed version of bottleneck 0.8.0 is not supported in pandas and will be not be used\n",
      "The minimum supported version is 1.0.0\n",
      "\n",
      "  ver=ver, min_ver=_MIN_BOTTLENECK_VERSION), UserWarning)\n"
     ]
    },
    {
     "name": "stdout",
     "output_type": "stream",
     "text": [
      "----------------------------------------------\n",
      "('Model name: ', 'CA1_laminar_distribution_synapses')\n",
      "('Model type: ', <class 'models.CA1_laminar_distribution_synapses'>)\n",
      "----------------------------------------------\n",
      "----------------------------------------------\n",
      "('Test name: ', 'CA1 laminar_distribution_synapses Test')\n",
      "('Test type: ', <class 'HippoNetworkUnit.tests.test_CA1_laminar_distribution_synapses_FreemanTukey2.CA1_laminar_distribution_synapses_FreemanTukey2Test'>)\n",
      "----------------------------------------------\n",
      "       FreemanTukey2-score   p-value\n",
      "AA                0.209425  0.492058\n",
      "BP                1.296931  0.987675\n",
      "BS                1.293340  0.986952\n",
      "CCKBC             0.848148  0.808599\n",
      "Ivy               1.263663  0.980309\n",
      "OLM               0.301515  0.533503\n",
      "PC                0.666257  0.714518\n",
      "PPA               0.263630  0.516199\n",
      "SCA               1.225497  0.970131\n",
      "Tri               0.829498  0.799087 \n",
      "\n",
      "----------------------------------------------\n",
      "('Score: ', 0.66625725343327646)\n",
      "Output files: \n",
      "./output/CA1_laminar_distribution_synapses/FreemanTukey2Score_plot.png\n",
      "----------------------------------------------\n",
      "Result registered successfully!\n"
     ]
    },
    {
     "data": {
      "text/plain": [
       "u'38517108-87cf-44d8-813b-8902dba2ab2f'"
      ]
     },
     "execution_count": 1,
     "metadata": {},
     "output_type": "execute_result"
    }
   ],
   "source": [
    "import models\n",
    "model2Test = models.CA1_laminar_distribution_synapses() \n",
    "from hbp_validation_framework import utils\n",
    "utils.run_test(environment=\"production\", hbp_username=\"pedroernesto\", model=model2Test, test_alias=\"CA1-LDsyn-FT2-gof-Test\", test_version=\"1.0\")\n"
   ]
  },
  {
   "cell_type": "code",
   "execution_count": null,
   "metadata": {},
   "outputs": [],
   "source": []
  }
 ],
 "metadata": {
  "kernelspec": {
   "display_name": "Python 2",
   "language": "python",
   "name": "python2"
  },
  "language_info": {
   "codemirror_mode": {
    "name": "ipython",
    "version": 2
   },
   "file_extension": ".py",
   "mimetype": "text/x-python",
   "name": "python",
   "nbconvert_exporter": "python",
   "pygments_lexer": "ipython2",
   "version": "2.7.13"
  }
 },
 "nbformat": 4,
 "nbformat_minor": 2
}
