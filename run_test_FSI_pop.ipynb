{
 "cells": [
  {
   "cell_type": "code",
   "execution_count": null,
   "metadata": {},
   "outputs": [],
   "source": [
    "# Create a new model entry in the ModelCatalog; metadata to be used for registering model\n",
    "!pip install --upgrade -q hbp_validation_framework\n",
    "\n",
    "from hbp_validation_framework import ModelCatalog, TestLibrary\n",
    "HBP_USERNAME = \"pedroernesto\"\n",
    "env=\"dev\"\n",
    "testLibrary = TestLibrary(username=HBP_USERNAME, environment=env)\n",
    "model_catalog = ModelCatalog.from_existing(testLibrary)\n",
    "\n",
    "model_uuid = model_catalog.register_model(app_id=\"39968\", name=\"Population of FSI-type reconstructed morphologies\",\n",
    "                alias=\"NeuroM-MorphStats-Pop\", author=\"Alexander Kozlov\", organization=\"KTH-UNIC\",\n",
    "                private=True, cell_type=\"Fast spiking interneuron\", model_type=\"Other\",\n",
    "                brain_region=\"Striatum\", species=\"Mouse (Mus musculus)\",\n",
    "                description=\"This model is being used to demonstrate use of the Validation Service\",\n",
    "                instances=[{\"source\":\"http://collab.link/8123/usecases/models/basal_morphology/fs\",\n",
    "                            \"version\":\"1.0\", \"parameters\":\"\"}])"
   ]
  },
  {
   "cell_type": "code",
   "execution_count": null,
   "metadata": {},
   "outputs": [],
   "source": [
    "# Register a new test on the test library\n",
    "name=\"Basal Ganglia FS-Population Morphology Soft Constraints\"\n",
    "alias=\"morph_stats_pop_Test\"\n",
    "version=\"1.0\"\n",
    "author=\"Pedro Garcia-Rodriguez\"\n",
    "species=\"Undefined\"\n",
    "age=\"Any\"\n",
    "brain_region=\"Striatum\"\n",
    "cell_type=\"Other\"\n",
    "data_modality=\"electron microscopy\"\n",
    "test_type=\"network structure\"\n",
    "score_type=\"Other\"\n",
    "protocol=\"Tests a set of average morphological features describing a population of digitally-reconstructed neurons\"\n",
    "data_location=\"collab://8123/test_observations/morphounit/FSI_morpho_features_NeuroM.json\"\n",
    "data_type=\"Morphology\"\n",
    "publication=\"Cutuli (2011), DOI:10.1016/j.nbd.2010.12.007; Ransome (2005), DOI:10.1016/j.neuroscience.2004.12.041; Tepper (2010), DOI:10.3389/fnana.2010.00150; Gittis (2011), DOI:10.1016/j.neuron.2011.06.035; Plenz and Kitai (1998) J Neurosci. 18(1):266-83; Kawaguchi (1990), PMID: 1698947, J Neurosci. 1990 Oct;10(10):3421-38; Fieblinger (2010), DOI: 10.1038/ncomms6316; Preston (1980), PMID: 7353139, Brain Res. 183(2):253-63; Reinius (2015), DOI: 10.3389/fnbeh.2015.00071\"\n",
    "repository=\"https://github.com/pedroernesto/morphounit.git\"\n",
    "path=\"morphounit.tests.NeuroM_MorphStats_pop_Test\"\n",
    "\n",
    "from hbp_validation_framework import TestLibrary\n",
    "HBP_USERNAME = \"pedroernesto\"\n",
    "test_library = TestLibrary(username=HBP_USERNAME, environment=\"dev\")\n",
    "\n",
    "test = test_library.add_test(name=name, alias=alias, version=version, author=author,\n",
    "                        species=species, age=age, brain_region=brain_region, cell_type=cell_type,\n",
    "                        data_modality=data_modality, test_type=test_type, score_type=score_type,\n",
    "                        data_location=data_location, data_type=data_type, publication=publication,\n",
    "                        repository=repository, path=path)"
   ]
  },
  {
   "cell_type": "code",
   "execution_count": null,
   "metadata": {},
   "outputs": [],
   "source": [
    "# Version of SciUnit is still the same, but the code has changed. Better to install a specific commit\n",
    "# !pip install -q git+git://github.com/scidash/sciunit.git@9e61c060cd8e5c6d7bce675d37c398987a9491c5\n",
    "# For sciunit 0.2.0.2\n",
    "# !pip install quantities==0.12.1\n",
    "# pip install neurom==1.14.6\n",
    "\n",
    "# !pip install -q neo\n",
    "# !pip install -q elephant\n",
    "# !pip install -q gitpython\n",
    "# !pip install -q efel\n",
    "\n",
    "!pip install scipy seaborn\n",
    "!pip install -U git+https://github.com/appukuttan-shailesh/hbp-validation-client.git\n",
    "!pip install --quiet fpdf PyPDF2 tabulate\n",
    "# First downgrade your pip version to install some packages:\n",
    "# python -m pip install pip==9.0.3\n",
    "# !pip install ./bbp-services-0.0.15/ ./task-types-0.0.10/ \n",
    "# !pip install hbp_service_client"
   ]
  },
  {
   "cell_type": "code",
   "execution_count": null,
   "metadata": {},
   "outputs": [],
   "source": [
    "! pip install --upgrade  -q hbp_validation_framework\n",
    "# ! pip uninstall --yes morphounit\n",
    "# !pip install --upgrade --quiet git+https://github.com/pedroernesto/morphounit.git\n",
    "# !pip install --quiet /home/pedroernesto/Documents/Project/Code/Models_Validation/Validation/ValidationTests/morphounit\n",
    "\n",
    "# First login in into the production version of the VF\n",
    "from hbp_validation_framework import utils, TestLibrary, ModelCatalog\n",
    "HBP_USERNAME = \"pedroernesto\"\n",
    "testLibrary = TestLibrary(username=HBP_USERNAME, environment=\"production\")\n",
    "modelCatalog = ModelCatalog.from_existing(testLibrary)\n",
    "# x=ModelCatalog(username=HBP_USERNAME)"
   ]
  },
  {
   "cell_type": "code",
   "execution_count": 1,
   "metadata": {},
   "outputs": [],
   "source": [
    "## Testing the average values from a whole POPULATION\n",
    "models_path = './models_excerpt-2'\n",
    "neuroM_stats_file = 'fs_cells_NeuroM_MorphStats_pred.json'"
   ]
  },
  {
   "cell_type": "code",
   "execution_count": 2,
   "metadata": {},
   "outputs": [
    {
     "name": "stdout",
     "output_type": "stream",
     "text": [
      "\u001b[33mDEPRECATION: Python 2.7 will reach the end of its life on January 1st, 2020. Please upgrade your Python as Python 2.7 won't be maintained after that date. A future version of pip will drop support for Python 2.7. More details about Python 2 support in pip, can be found at https://pip.pypa.io/en/latest/development/release-process/#python-2-support\u001b[0m\n",
      "Uninstalling morphounit-0.3:\n",
      "  Successfully uninstalled morphounit-0.3\n",
      "\u001b[33mDEPRECATION: Python 2.7 will reach the end of its life on January 1st, 2020. Please upgrade your Python as Python 2.7 won't be maintained after that date. A future version of pip will drop support for Python 2.7. More details about Python 2 support in pip, can be found at https://pip.pypa.io/en/latest/development/release-process/#python-2-support\u001b[0m\n"
     ]
    }
   ],
   "source": [
    "!pip uninstall --yes morphounit\n",
    "!pip install  -q /home/pedroernesto/Documents/Project/Code/Models_Validation/Validation/ValidationTests/morphounit\n",
    "# pip install -q git+https://github.com/appukuttan-shailesh/morphounit@morph_stats"
   ]
  },
  {
   "cell_type": "code",
   "execution_count": 3,
   "metadata": {
    "scrolled": true
   },
   "outputs": [
    {
     "name": "stdout",
     "output_type": "stream",
     "text": [
      "Testing population directory ---->  ./models_excerpt-2 \n",
      "\n",
      "\n",
      "('Score: ', 3.686346397914075)\n",
      "---------------------------------------------- \n",
      "\n",
      "Output files: \n",
      "./validation_results/neuroM_morph_softChecks/population_models_excerpt-2/20191210-174055/prediction_summary_FSI_mean.json\n",
      "./validation_results/neuroM_morph_softChecks/population_models_excerpt-2/20191210-174055/prediction_summary_FSI_pop.json\n",
      "./validation_results/neuroM_morph_softChecks/population_models_excerpt-2/20191210-174055/results_summary_FSI_mean.txt\n",
      "./validation_results/neuroM_morph_softChecks/population_models_excerpt-2/20191210-174055/scores_summary_FSI_mean.json\n",
      "./validation_results/neuroM_morph_softChecks/population_models_excerpt-2/20191210-174055/score_barPlots_FSI_mean.pdf\n",
      "----------------------------------------------\n",
      "\n"
     ]
    }
   ],
   "source": [
    "## Testing the average values from the whole POPULATION\n",
    "from morphounit.utils import NeuroM_MorphStats_pop\n",
    "import morphounit.tests\n",
    "\n",
    "# To run the test Locally\n",
    "import os, json, copy\n",
    "test_obs_path = os.path.expanduser('~/Documents/Project/Code/Models_Validation/Validation/ValidationTests/morphounit_expData')\n",
    "# obs_file = os.path.join(obs_path, 'fs_morpho_stats_NeuroM.json')\n",
    "obs_file = os.path.join(test_obs_path, 'fs_morpho_stats_NeuroM_NO_Field_Diam_test.json')\n",
    "with open(obs_file, 'r+') as fp:\n",
    "    raw_observation = json.load(fp)\n",
    "\n",
    "morph_path = models_path\n",
    "model_name = 'population_'+os.path.basename(morph_path) # Cells-dir\n",
    "morph_model = NeuroM_MorphStats_pop(model_name=model_name, morph_path=morph_path, \n",
    "                                neuroM_pred_file=neuroM_stats_file)\n",
    "\n",
    "print 'Testing population directory ----> ', models_path, '\\n\\n'\n",
    "\n",
    "test = morphounit.tests.NeuroM_MorphStats_pop_Test(observation=copy.deepcopy(raw_observation), \n",
    "                                                   base_directory=morph_model.morph_stats_output)\n",
    "\n",
    "# test.generate_prediction(model=morph_model)\n",
    "score = test.judge(morph_model, deep_error=True)\n",
    "print(\"Score: \", score.score)\n",
    "print(\"---------------------------------------------- \\n\")\n",
    "\n",
    "if \"figures\" in score.related_data:\n",
    "    print(\"Output files: \")\n",
    "    for item in score.related_data[\"figures\"]:\n",
    "        print(item)\n",
    "print(\"----------------------------------------------\\n\")"
   ]
  },
  {
   "cell_type": "code",
   "execution_count": null,
   "metadata": {},
   "outputs": [],
   "source": [
    "# On the Collab \n",
    "# It is the model registered on some cell above\n",
    "# model_uuid=\"824aa429-e393-4a73-b9b0-d07be7310fee\" #dev\n",
    "model_uuid=\"90686877-c04e-47e9-a344-30f14f6e5ded\" # production\n",
    "morph_model.model_uuid = model_uuid\n",
    "morph_model.version = \"1.0\"\n",
    "\n",
    "# Running the test and registering the results on the Collab with the raw functions of the Python client\n",
    "# Note: observation path is registered with Test definition on the VF!)\n",
    "test_alias=\"morph_stats_pop_Test\"\n",
    "test_version=\"1.0\"\n",
    "test = testLibrary.get_validation_test(alias=test_alias, version=test_version)\n",
    "print(test.description)\n",
    "test.observation\n",
    "score = test.judge(morph_model, deep_error=True)\n",
    "\n",
    "print(\"----------------------------------------------\")\n",
    "print(\"Score: \", score.score)\n",
    "if \"figures\" in score.related_data:\n",
    "    print(\"Output files: \")\n",
    "    for item in score.related_data[\"figures\"]:\n",
    "        print(item)\n",
    "print(\"----------------------------------------------\")"
   ]
  },
  {
   "cell_type": "code",
   "execution_count": null,
   "metadata": {
    "scrolled": true
   },
   "outputs": [],
   "source": [
    "# Registering the results on the VF\n",
    "from hbp_validation_framework.datastores import CollabDataStore\n",
    "from datetime import datetime\n",
    "\n",
    "# collab_id=\"5165\" # Neuroinfo-Gif (dev) Collab\n",
    "collab_id=\"8123\" # Model validation suites Collab\n",
    "timestamp = datetime.now().strftime(\"%Y-%m-%d\")\n",
    "collab_folder = \"validation_results/{}/{}_{}\".format(timestamp,model_name, datetime.now().strftime(\"%Y%m%d-%H%M%S\"))\n",
    "collab_storage = CollabDataStore(collab_id=collab_id,\n",
    "                                 base_folder=collab_folder,\n",
    "                                 auth=testLibrary.auth)\n",
    "\n",
    "# HBP authentication token might expire when the test takes too long, \n",
    "# so create a new testLibrary object with a valid token\n",
    "testLibrary = TestLibrary(username=HBP_USERNAME, environment=\"production\")\n",
    "response = testLibrary.register_result(test_result=score, data_store=collab_storage, project=collab_id)\n",
    "\n",
    "\"\"\"\n",
    "result_uuids = []\n",
    "result_id = utils.run_test(hbp_username=HBP_USERNAME, environment=\"production\", \n",
    "                           model=morph_model, test_alias=test_alias, test_version=test_version,\n",
    "                           storage_collab_id=collab_id, register_result=False, client_obj=testLibrary)\n",
    "\n",
    "result_uuids.append(result_id)\n",
    "\"\"\""
   ]
  },
  {
   "cell_type": "code",
   "execution_count": null,
   "metadata": {},
   "outputs": [],
   "source": [
    "print result_uuids\n",
    "model_json = modelCatalog.get_model(model_id=\"90686877-c04e-47e9-a344-30f14f6e5ded\")\n",
    "print model_json"
   ]
  },
  {
   "cell_type": "code",
   "execution_count": null,
   "metadata": {},
   "outputs": [],
   "source": [
    "report_path = None\n",
    "if len(result_uuids) > 0:\n",
    "    print(\"\\nDo you wish to generate a report of the tests executed?\")\n",
    "    print(\"Enter: y/n\")\n",
    "    choice = raw_input().lower()\n",
    "    valid_choices = {\"yes\": True, \"y\": True, \"no\": False, \"n\": False}\n",
    "    if valid_choices[choice]:\n",
    "        valid_uuids, report_path = utils.generate_report(hbp_username=HBP_USERNAME, environment=\"dev\", \n",
    "                                                         result_list=result_uuids, only_combined=True)"
   ]
  },
  {
   "cell_type": "code",
   "execution_count": null,
   "metadata": {},
   "outputs": [],
   "source": [
    "print report_path\n",
    "if report_path:\n",
    "    rel_report_path = os.path.relpath(report_path)\n",
    "    from IPython.display import IFrame    \n",
    "    display(IFrame(rel_report_path, width=900, height=650))"
   ]
  }
 ],
 "metadata": {
  "kernelspec": {
   "display_name": "Python 2",
   "language": "python",
   "name": "python2"
  },
  "language_info": {
   "codemirror_mode": {
    "name": "ipython",
    "version": 2
   },
   "file_extension": ".py",
   "mimetype": "text/x-python",
   "name": "python",
   "nbconvert_exporter": "python",
   "pygments_lexer": "ipython2",
   "version": "2.7.13"
  }
 },
 "nbformat": 4,
 "nbformat_minor": 2
}
