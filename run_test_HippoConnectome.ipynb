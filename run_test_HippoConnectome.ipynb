{
 "cells": [
  {
   "cell_type": "code",
   "execution_count": null,
   "metadata": {},
   "outputs": [],
   "source": [
    "\"\"\"\n",
    "!pip install -q sciunit\n",
    "!pip install -q neo\n",
    "!pip install -q elephant\n",
    "!pip install -q gitpython\n",
    "!pip install -q efel\n",
    "\"\"\"\n",
    "\n",
    "#!pip install scipy seaborn\n",
    "# !pip install -U git+https://github.com/appukuttan-shailesh/hbp-validation-client.git\n",
    "#!pip install --quiet fpdf PyPDF2 tabulate\n",
    "#!pip install ./bbp-services-0.0.15/ ./task-types-0.0.10/ \n",
    "# pip install hbp_service_client"
   ]
  },
  {
   "cell_type": "code",
   "execution_count": null,
   "metadata": {},
   "outputs": [],
   "source": [
    "#!pip install --upgrade --quiet git+https://github.com/pedroernesto/HippoNetworkUnit.git\n",
    "!pip uninstall --yes HippoNetworkUnit\n",
    "!pip install --quiet ~/Documents/Project/Code/Models_Validation/Validation/ValidationTests/HippoNetworkUnit\n",
    "\n",
    "from HippoNetworkUnit.utils import CA1_laminar_distribution_synapses\n",
    "\n",
    "import os\n",
    "obs_path = os.path.expanduser('~/Documents/Project/Code/Models_Validation/Validation/ValidationTests/HippoNetworkUnit_expData')\n",
    "obs_file = os.path.join(obs_path, 'CA1_laminar_distribution_synapses.json')\n",
    "\n",
    "import json\n",
    "fp = open(obs_file, 'r+')\n",
    "observation = json.load(fp)\n",
    "fp.close()\n",
    "\n",
    "import HippoNetworkUnit.tests"
   ]
  },
  {
   "cell_type": "code",
   "execution_count": null,
   "metadata": {},
   "outputs": [],
   "source": [
    "import json; \n",
    "print json.dumps(observation, sort_keys=True, indent=3)"
   ]
  },
  {
   "cell_type": "code",
   "execution_count": null,
   "metadata": {},
   "outputs": [],
   "source": [
    "model2Test = CA1_laminar_distribution_synapses()\n",
    "\n",
    "# To run the test Locally\n",
    "test = HippoNetworkUnit.tests.CA1_laminar_distribution_synapses_FreemanTukey2Test(observation=observation)\n",
    "test.generate_prediction(model=model2Test)\n",
    "score = test.judge(model2Test, deep_error=True)"
   ]
  },
  {
   "cell_type": "code",
   "execution_count": null,
   "metadata": {
    "scrolled": false
   },
   "outputs": [],
   "source": [
    "\"\"\"\n",
    "# On the Collab (observation path is registered with Test definition on the VF!)\n",
    "# It is the model registered on the cell before\n",
    "\n",
    "# First login in into the production version of the VF\n",
    "from hbp_validation_framework import utils, TestLibrary, ModelCatalog\n",
    "HBP_USERNAME = \"pedroernesto\"\n",
    "testLibrary = TestLibrary(username=HBP_USERNAME, environment=\"production\")\n",
    "modelCatalog = ModelCatalog.from_existing(testLibrary)\n",
    "# x=ModelCatalog(username=HBP_USERNAME)\n",
    "\n",
    "model_uuid = \"870192f3-73f8-48ed-80a1-e2e74f6b386b\" # dev\n",
    "morph_model.model_uuid = model_uuid\n",
    "morph_model.version = \"1.0\"\n",
    "\n",
    "collab_id=\"8123\"\n",
    "result_uuids = []\n",
    "test_alias=\"CA1-LDsynapses-Test\"\n",
    "test_version=\"1.0\"\n",
    "result_id = utils.run_test(hbp_username=HBP_USERNAME, environment=\"dev\", \n",
    "                           model=morph_model, test_alias=test_alias, test_version=test_version,\n",
    "                           storage_collab_id=collab_id, register_result=True, client_obj=testLibrary)\n",
    "\n",
    "result_uuids.append(result_id)\n",
    "\"\"\""
   ]
  }
 ],
 "metadata": {
  "kernelspec": {
   "display_name": "Python 2",
   "language": "python",
   "name": "python2"
  },
  "language_info": {
   "codemirror_mode": {
    "name": "ipython",
    "version": 2
   },
   "file_extension": ".py",
   "mimetype": "text/x-python",
   "name": "python",
   "nbconvert_exporter": "python",
   "pygments_lexer": "ipython2",
   "version": "2.7.13"
  }
 },
 "nbformat": 4,
 "nbformat_minor": 2
}
