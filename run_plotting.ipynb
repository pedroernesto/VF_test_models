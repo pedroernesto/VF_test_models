{
 "cells": [
  {
   "cell_type": "code",
   "execution_count": null,
   "metadata": {},
   "outputs": [],
   "source": [
    "import json, os\n",
    "\n",
    "test_name = 'neuroM_morph_softChecks'\n",
    "model_results = 'population_str-fs_excert/20180529-100621'\n",
    "val_results_dir='./validation_results'\n",
    "val_results_path = os.path.join(val_results_dir, test_name, model_results)\n",
    "\n",
    "if not os.path.exists(val_results_path):\n",
    "    os.makedirs(val_results_path)\n",
    "    \n",
    "val_file_path = os.path.join(val_results_path,'prediction_summary_FSI_pop.json')\n",
    "with open(val_file_path, 'r') as fp:\n",
    "    pop_prediction_raw = json.load(fp)"
   ]
  },
  {
   "cell_type": "code",
   "execution_count": null,
   "metadata": {},
   "outputs": [],
   "source": [
    "import pandas as pd\n",
    "prediction_raw = pop_prediction_raw.values()[0]\n",
    "\n",
    "pred_axon_df = pd.DataFrame(prediction_raw['axon'])\n",
    "pred_axon_df.insert(0, 'NeuriteType', 'axon')\n",
    "\n",
    "pred_dend_df = pd.DataFrame(prediction_raw['basal_dendrite'])\n",
    "pred_dend_df.insert(0, 'NeuriteType', 'basal_dendrite')\n",
    "\n",
    "frames = [pred_axon_df, pred_dend_df]\n",
    "prediction_raw_df = pd.concat(frames)\n",
    "prediction_raw_df.index.rename('Cell', inplace=True)\n",
    "prediction_raw_df.head()"
   ]
  },
  {
   "cell_type": "code",
   "execution_count": null,
   "metadata": {},
   "outputs": [],
   "source": [
    "import seaborn as sns\n",
    "import matplotlib.pyplot as plt"
   ]
  },
  {
   "cell_type": "code",
   "execution_count": null,
   "metadata": {},
   "outputs": [],
   "source": [
    "all_vars=list(prediction_raw_df)\n",
    "all_vars.remove('total_number_of_neurite')\n",
    "all_vars.remove('NeuriteType')\n",
    "                \n",
    "NeuriteType=['axon']\n",
    "for neuriteType in NeuriteType:\n",
    "    filepath = os.path.join(val_results_path,'prediction_stats_'+neuriteType+'_FSI_pop.pdf')\n",
    "    # plt.figure()\n",
    "    data=prediction_raw_df.loc[prediction_raw_df.NeuriteType==neuriteType]\n",
    "    sns.pairplot(data, vars=all_vars, diag_kind=\"kde\", kind='reg', markers=\"+\",\n",
    "              diag_kws=dict(shade=True))\n",
    "    # plt.show()\n",
    "    # plt.savefig(filepath, dpi=600, )\n",
    "    \n",
    "#######################\n",
    "all_vars = [\"max_section_branch_order\", \"neurite_X_extent\", \"neurite_Y_extent\", \"neurite_Z_extent\", \n",
    "          \"neurite_field_diameter\", \"neurite_largest_extent\", \"neurite_shortest_extent\", \n",
    "          \"total_neurite_length\", \"total_number_of_neurite\"]\n",
    "\n",
    "NeuriteType=['basal_dendrite']\n",
    "for neuriteType in NeuriteType:\n",
    "    filepath = os.path.join(val_results_path,'prediction_stats_'+neuriteType+'_FSI_pop.pdf')\n",
    "    # plt.figure()\n",
    "    data=prediction_raw_df.loc[prediction_raw_df.NeuriteType==neuriteType]\n",
    "    sns.pairplot(data, vars=all_vars, diag_kind=\"kde\", kind='reg', markers=\"+\",\n",
    "              diag_kws=dict(shade=True))\n",
    "    # plt.show()\n",
    "    # plt.savefig(filepath, dpi=600, )"
   ]
  },
  {
   "cell_type": "code",
   "execution_count": null,
   "metadata": {},
   "outputs": [],
   "source": [
    "y_vars=[\"neurite_X_extent\", \"neurite_Y_extent\", \"neurite_Z_extent\"]\n",
    "x_vars=[\"total_neurite_length\", \"neurite_field_diameter\", \"neurite_largest_extent\", \"neurite_shortest_extent\"]\n",
    "\n",
    "#filepath = os.path.join(val_results_path,'statistics_FSI_pop.pdf')\n",
    "# data=prediction_raw_df\n",
    "# sns.pairplot(data, x_vars=x_vars, y_vars=y_vars, hue=\"NeuriteType\", size=4, aspect=1, kind=\"reg\")\n",
    "# plt.savefig(filepath, dpi=600, )\n",
    "\n",
    "\n",
    "from scipy import stats\n",
    "\n",
    "def corrfunc(x, y, **kws):\n",
    "    r,p = stats.pearsonr(x,y)\n",
    "    ax = plt.gca()\n",
    "    ax.annotate(\"r = {:.2f}, p ={:.4f}\".format(r,p),\n",
    "                xy=(.1, .9), xycoords=ax.transAxes)\n",
    "\n",
    "NeuriteType=['axon', 'basal_dendrite']\n",
    "for neuriteType in NeuriteType:\n",
    "    filepath = os.path.join(val_results_path,'prediction_lreg_'+neuriteType+'_FSI_pop.pdf')\n",
    "    data=prediction_raw_df.loc[prediction_raw_df.NeuriteType==neuriteType]\n",
    "    g = sns.PairGrid(data, x_vars=x_vars, y_vars=y_vars, size=5, aspect=1, palette=[\"red\"])\n",
    "    g.map(sns.regplot)\n",
    "    g.map(corrfunc)\n",
    "    plt.subplots_adjust(top=0.95)\n",
    "    g.fig.suptitle('NeuriteType: '+neuriteType, fontsize=20) \n",
    "\n",
    "    # sns.pairplot(data, x_vars=x_vars, y_vars=y_vars, hue=\"NeuriteType\", size=5, aspect=1, kind=\"reg\")\n",
    "    plt.savefig(filepath, dpi=600, )\n",
    "\n",
    "\"\"\"    \n",
    "with sns.axes_style('white'):\n",
    "    for x,y in zip(x_vars,y_vars):\n",
    "        sns.jointplot(x, y, data.loc[data.NeuriteType=='axon'], kind='reg')\n",
    "\"\"\""
   ]
  },
  {
   "cell_type": "code",
   "execution_count": null,
   "metadata": {
    "scrolled": false
   },
   "outputs": [],
   "source": [
    "from scipy import stats\n",
    "\n",
    "def corrfunc(x, y, **kws):\n",
    "    r,p = stats.pearsonr(x,y)\n",
    "    ax = plt.gca()\n",
    "    ax.annotate(\"r = {:.2f}, p ={:.2f}\".format(r,p),\n",
    "                xy=(.1, .9), xycoords=ax.transAxes)\n",
    "\n",
    "all_vars=list(prediction_raw_df)\n",
    "all_vars.remove('max_section_branch_order')\n",
    "all_vars.remove('total_number_of_neurite')\n",
    "data_excerpt_df = prediction_raw_df.loc[:, all_vars]\n",
    "\n",
    "NeuriteType=['axon', 'basal_dendrite']\n",
    "for neuriteType in NeuriteType:\n",
    "    filepath = os.path.join(val_results_path,'prediction_stats_'+neuriteType+'_FSI_pop.pdf')\n",
    "    data=data_excerpt_df.loc[data_excerpt_df.NeuriteType==neuriteType]\n",
    "    g = sns.PairGrid(data, palette=[\"red\"])\n",
    "    g.map_upper(sns.regplot)\n",
    "    #g.map_upper(plt.reg, s=10)\n",
    "    g.map_diag(sns.distplot, kde=False)\n",
    "    g.map_lower(sns.kdeplot, cmap=\"Blues_d\", n_levels=6)\n",
    "    g.map_upper(corrfunc)\n",
    "    plt.subplots_adjust(top=0.95)\n",
    "    g.fig.suptitle('NeuriteType: '+neuriteType, fontsize=20) \n",
    "    plt.savefig(filepath, dpi=600, )"
   ]
  },
  {
   "cell_type": "code",
   "execution_count": null,
   "metadata": {},
   "outputs": [],
   "source": [
    "### x_vars = [\"max_section_branch_order\", \"neurite_X_extent\", \"neurite_Y_extent\", \"neurite_Z_extent\", \n",
    "          \"neurite_field_diameter\", \"neurite_largest_extent\", \"neurite_shortest_extent\", \n",
    "          \"total_neurite_length\", \"total_number_of_neurite\"]\n",
    "\n",
    "NeuriteType=['basal_dendrite']\n",
    "for neuriteType in NeuriteType:\n",
    "    filepath = os.path.join(val_results_path,'prediction_stats_'+neuriteType+'_FSI_pop.pdf')\n",
    "    plt.figure()\n",
    "    data=prediction_raw_df.loc[prediction_raw_df.NeuriteType==neuriteType]\n",
    "    g = sns.FacetGrid(prediction_raw_df, col='total_number_of_neurite', row='total_number_of_neurite')\n",
    "    g.map(plt.plot, \"neurite_largest_extent\", \"neurite_shortest_extent\")\n",
    "    \n",
    "# col=[\"neurite_X_extent\", \"neurite_Y_extent\", \"neurite_Z_extent\"],\n",
    "# row=[\"neurite_X_extent\", \"neurite_Y_extent\", \"neurite_Z_extent\"]"
   ]
  },
  {
   "cell_type": "code",
   "execution_count": null,
   "metadata": {},
   "outputs": [],
   "source": []
  }
 ],
 "metadata": {
  "kernelspec": {
   "display_name": "Python 2",
   "language": "python",
   "name": "python2"
  },
  "language_info": {
   "codemirror_mode": {
    "name": "ipython",
    "version": 2
   },
   "file_extension": ".py",
   "mimetype": "text/x-python",
   "name": "python",
   "nbconvert_exporter": "python",
   "pygments_lexer": "ipython2",
   "version": "2.7.13"
  }
 },
 "nbformat": 4,
 "nbformat_minor": 2
}
