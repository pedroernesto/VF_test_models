{
 "cells": [
  {
   "cell_type": "code",
   "execution_count": null,
   "metadata": {},
   "outputs": [],
   "source": [
    "\"\"\"\n",
    "!pip install -q sciunit\n",
    "!pip install -q neo\n",
    "!pip install -q elephant\n",
    "!pip install -q gitpython\n",
    "!pip install -q efel\n",
    "\"\"\"\n",
    "\n",
    "#!pip install scipy seaborn\n",
    "!pip install -U git+https://github.com/appukuttan-shailesh/hbp-validation-client.git\n",
    "#!pip install --quiet fpdf PyPDF2 tabulate\n",
    "#!pip install ./bbp-services-0.0.15/ ./task-types-0.0.10/ \n",
    "!pip install hbp_service_client"
   ]
  },
  {
   "cell_type": "code",
   "execution_count": null,
   "metadata": {},
   "outputs": [],
   "source": [
    "# Create a DUMMY model entry in the ModelCatalog; metadata to be used for registering model\n",
    "!pip install --upgrade  -q hbp_validation_framework\n",
    "\n",
    "from hbp_validation_framework import ModelCatalog, TestLibrary\n",
    "HBP_USERNAME = \"pedroernesto\"\n",
    "env=\"production\"\n",
    "testLibrary = TestLibrary(username=HBP_USERNAME, environment=env)\n",
    "model_catalog = ModelCatalog.from_existing(testLibrary)\n",
    "\n",
    "model = model_catalog.register_model(app_id=\"39968\", name=\"Reconstructed cell's morphology\",\n",
    "                alias=\"NeuroM-MorphStats-Model\", author=\"Alexander Kozlov\", organization=\"HBP-SP6\",\n",
    "                private=True, cell_type=\"Fast spiking interneuron\", model_type=\"Single Cell\",\n",
    "                brain_region=\"Striatum\", species=\"Other\",\n",
    "                instances=[{\"source\":\"https://github.com/pedroernesto/VF_test_models\",\n",
    "                            \"version\":\"1.0\", \"parameters\":\"\"}],\n",
    "                description=\"A class to interact with morphology files via the morphometrics-NeuroM's API (morph_stats)\")"
   ]
  },
  {
   "cell_type": "code",
   "execution_count": null,
   "metadata": {},
   "outputs": [],
   "source": [
    "# Adding model instances to an existing Model collection in the Model Catalog\n",
    "import os\n",
    "\n",
    "from hbp_validation_framework import ModelCatalog, TestLibrary\n",
    "HBP_USERNAME = \"pedroernesto\"\n",
    "env=\"production\"\n",
    "testLibrary = TestLibrary(username=HBP_USERNAME, environment=env)\n",
    "model_catalog = ModelCatalog.from_existing(testLibrary)\n",
    "\n",
    "model_id='b320b49e-fe00-4c91-a0a7-92ed6312e997'\n",
    "source_dir='http://collab.link/8123/usecases/models/basal_morphology/fs/'\n",
    "\n",
    "models_path = './str-fs_excerpt'\n",
    "file_entries = os.listdir(models_path)\n",
    "morph_files = [f for f in file_entries if f.endswith(\".swc\")]\n",
    "for file_name in morph_files:\n",
    "    morph_name=file_name.split('.')[0]\n",
    "    instance_id = model_catalog.add_model_instance(model_id=model_id,\n",
    "                                              source=os.path.join(source_dir,file_name),\n",
    "                                              version=morph_name,\n",
    "                                              description=\"\",\n",
    "                                              parameters='{}',\n",
    "                                              code_format=\"\")"
   ]
  },
  {
   "cell_type": "code",
   "execution_count": null,
   "metadata": {},
   "outputs": [],
   "source": [
    "# !pip install --upgrade  -q hbp_validation_framework\n",
    "# !pip uninstall --yes morphounit\n",
    "# !pip install --upgrade --quiet git+https://github.com/pedroernesto/morphounit.git\n",
    "# !pip install --quiet /home/pedroernesto/Documents/Project/Code/Models_Validation/Validation/ValidationTests/morphounit\n",
    "\n",
    "# First login in into the production version of the VF\n",
    "from hbp_validation_framework import utils, TestLibrary, ModelCatalog\n",
    "HBP_USERNAME = \"pedroernesto\"\n",
    "testLibrary = TestLibrary(username=HBP_USERNAME, environment=\"production\")\n",
    "modelCatalog = ModelCatalog.from_existing(testLibrary)\n",
    "# x=ModelCatalog(username=HBP_USERNAME)"
   ]
  },
  {
   "cell_type": "code",
   "execution_count": 1,
   "metadata": {},
   "outputs": [],
   "source": [
    "## Testing the morpho-feature values cell by cell\n",
    "# models_path = './str-fs'\n",
    "models_path = './str-fs_excerpt'\n",
    "config_path = 'FSI_morph_stats_config.yaml'"
   ]
  },
  {
   "cell_type": "code",
   "execution_count": null,
   "metadata": {
    "scrolled": true
   },
   "outputs": [],
   "source": [
    "## Grouping (original and scaled) cells with their related clones into same dirs\n",
    "import os\n",
    "\n",
    "try:\n",
    "    from pathlib import Path\n",
    "except ImportError:\n",
    "    from pathlib2 import Path  # Python 2 backport\n",
    "    \n",
    "models_path = './str-fs_excerpt'\n",
    "file_entries = os.listdir(models_path)\n",
    "morph_files = [f for f in file_entries if f.endswith((\".swc\", 'h5'))]\n",
    "\n",
    "import shutil      \n",
    "for file_name in morph_files:\n",
    "    base_name = os.path.splitext(file_name)[0]\n",
    "    if 'Clone' in base_name:\n",
    "        cl_index = base_name.find('_-_Clone')\n",
    "        dir_name =  base_name[:cl_index]\n",
    "    else:\n",
    "        dir_name = base_name\n",
    "    # Creating a dir for for each orginal or scaled cell\n",
    "    dir_path = os.path.join(models_path, dir_name)\n",
    "    Path(dir_path).mkdir(parents=True, exist_ok=True)\n",
    "    file_path = os.path.join(models_path,file_name)\n",
    "    shutil.move(file_path, dir_path)"
   ]
  },
  {
   "cell_type": "code",
   "execution_count": 2,
   "metadata": {},
   "outputs": [
    {
     "name": "stdout",
     "output_type": "stream",
     "text": [
      "Uninstalling morphounit-0.3:\n",
      "  Successfully uninstalled morphounit-0.3\n"
     ]
    },
    {
     "name": "stderr",
     "output_type": "stream",
     "text": [
      "/home/pedroernesto/miniconda2/lib/python2.7/site-packages/pandas/core/nanops.py:39: UserWarning: The installed version of bottleneck 0.8.0 is not supported in pandas and will be not be used\n",
      "The minimum supported version is 1.0.0\n",
      "\n",
      "  ver=ver, min_ver=_MIN_BOTTLENECK_VERSION), UserWarning)\n"
     ]
    },
    {
     "name": "stdout",
     "output_type": "stream",
     "text": [
      "%%%%%%%%%%%%%%%%%%%%%%%%%%%%%%% ./str-fs_excerpt/010710HP2/010710HP2.h5 \n",
      "\n",
      "%%%%%%%%%%%%%%%%%%%%%%%%%%%%%%% ./str-fs_excerpt/010710HP2_-_Scale_x1.000_y0.850_z1.000/010710HP2_-_Scale_x1.000_y0.850_z1.000.h5 \n",
      "\n"
     ]
    },
    {
     "data": {
      "text/plain": [
       "'\\n\\n \\n# Running the test without results registering, since no information about the tests will be added to the score \\ntest = morphounit.tests.NeuroM_MorphStats_Test(observation=observation)\\n# test.generate_prediction(model=morph_model)\\nscore = test.judge(morph_model, deep_error=True)\\nprint(\"----------------------------------------------\")\\nprint(\"Score: \", score.score)\\nif \"figures\" in score.related_data:\\n    print(\"Output files: \")\\n    for item in score.related_data[\"figures\"]:\\n        print(item)\\nprint(\"----------------------------------------------\")\\n'"
      ]
     },
     "execution_count": 2,
     "metadata": {},
     "output_type": "execute_result"
    }
   ],
   "source": [
    "!pip uninstall --yes morphounit\n",
    "!pip install --quiet /home/pedroernesto/Documents/Project/Code/Models_Validation/Validation/ValidationTests/morphounit\n",
    "\n",
    "## Testing the morpho-feature values cell by cell\n",
    "# Running the test locally, without results registering. No information about the tests will be added to the score \n",
    "from morphounit.utils import NeuroM_MorphStats, NeuroM_MorphStats_AddFeatures\n",
    "import morphounit.tests\n",
    "import os,json\n",
    "\n",
    "# pip install path.py\n",
    "\n",
    "from path import Path\n",
    "\n",
    "# Computing the observation files. The non-cloned cell is used as experimental data\n",
    "obs_file = 'fs_morpho_stats_NO_Field_Diam.json'\n",
    "dirs_path = sorted(filter(os.path.isdir, Path(models_path).dirs()))\n",
    "for dir_path in dirs_path:\n",
    "    file_entries = os.listdir(dir_path)\n",
    "    morph_files = sorted([f for f in file_entries if f.endswith((\".swc\", 'h5'))])\n",
    "    \n",
    "    file_name = morph_files[0] # The non-cloned cell\n",
    "    morph_path = os.path.join(dir_path, file_name)\n",
    "    model_name = os.path.splitext(file_name)[0] # Cell-ID\n",
    "\n",
    "    print '%%%%%%%%%%%%%%%%%%%%%%%%%%%%%%%', morph_path, '\\n'\n",
    "\n",
    "    morph_model = NeuroM_MorphStats_AddFeatures(model_name=model_name, morph_path=morph_path, \n",
    "                                                config_path=config_path, morph_stats_file=obs_file)\n",
    "\n",
    "observation = morph_model.morph_feature_info\n",
    "test = morphounit.tests.NeuroM_MorphStats_Test(observation=observation)\n",
    "test.generate_prediction(model=morph_model)\n",
    "\n",
    "\n",
    "\"\"\"\n",
    "# Running the test without results registering, since no information about the tests will be added to the score \n",
    "test = morphounit.tests.NeuroM_MorphStats_Test(observation=observation)\n",
    "# test.generate_prediction(model=morph_model)\n",
    "score = test.judge(morph_model, deep_error=True)\n",
    "print(\"----------------------------------------------\")\n",
    "print(\"Score: \", score.score)\n",
    "if \"figures\" in score.related_data:\n",
    "    print(\"Output files: \")\n",
    "    for item in score.related_data[\"figures\"]:\n",
    "        print(item)\n",
    "print(\"----------------------------------------------\")\n",
    "\"\"\""
   ]
  },
  {
   "cell_type": "code",
   "execution_count": 3,
   "metadata": {},
   "outputs": [
    {
     "data": {
      "text/plain": [
       "{u'./str-fs_excerpt/010710HP2_-_Scale_x1.000_y0.850_z1.000/010710HP2_-_Scale_x1.000_y0.850_z1.000': {u'axon': {u'max_section_branch_order': {'value': array(40.0) * dimensionless},\n",
       "   'neurite_X_extent': {'value': array(1473.98901367) * um},\n",
       "   'neurite_Y_extent': {'value': array(552.574005127) * um},\n",
       "   'neurite_Z_extent': {'value': array(260.116004944) * um},\n",
       "   'neurite_largest_extent': {'value': array(1853.75675142) * um},\n",
       "   'neurite_shortest_extent': {'value': array(468.866712386) * um},\n",
       "   u'total_neurite_length': {'value': array(38388.069331) * um},\n",
       "   u'total_number_of_neurite': {'value': array(1.0) * dimensionless}},\n",
       "  u'basal_dendrite': {u'max_section_branch_order': {'value': array(10.0) * dimensionless},\n",
       "   'neurite_X_extent': {'value': array(410.345993042) * um},\n",
       "   'neurite_Y_extent': {'value': array(646.385009766) * um},\n",
       "   'neurite_Z_extent': {'value': array(144.840202332) * um},\n",
       "   'neurite_largest_extent': {'value': array(911.778017357) * um},\n",
       "   'neurite_shortest_extent': {'value': array(133.53015915) * um},\n",
       "   u'total_neurite_length': {'value': array(6248.26860793) * um},\n",
       "   u'total_number_of_neurite': {'value': array(2.0) * dimensionless}},\n",
       "  'soma': {u'total_soma_diameter': {'value': array(20.4649896061) * um}}}}"
      ]
     },
     "execution_count": 3,
     "metadata": {},
     "output_type": "execute_result"
    }
   ],
   "source": [
    "observation"
   ]
  },
  {
   "cell_type": "code",
   "execution_count": null,
   "metadata": {
    "scrolled": false
   },
   "outputs": [],
   "source": [
    "## Testing the morpho-feature values cell by cell\n",
    "# To run the Test with the related-information registred at the HBP-Collab\n",
    "from morphounit.utils import NeuroM_MorphStats\n",
    "import morphounit.test\n",
    "\n",
    "result_uuids = []\n",
    "\n",
    "file_entries = os.listdir(models_path)\n",
    "morph_files = [f for f in file_entries if f.endswith((\".swc\", 'h5'))]\n",
    "for file_name in morph_files:\n",
    "    \n",
    "    morph_path = os.path.join(models_path, file_name)\n",
    "    model_name = file_name.split(\".\")[0] # Cell-ID\n",
    "\n",
    "    morph_model = NeuroM_MorphStats(model_name=model_name, morph_path=morph_path,\n",
    "                                   config_path=config_path, morph_stats_file=stats_file)\n",
    "\n",
    "    print morph_path, \"---\", file_name, '\\n\\n'\n",
    "    # score = test.judge(model2Test, deep_error=True)\n",
    "    \n",
    "    # On the Collab (observation path is registered with Test definition on the VF!)\n",
    "    # It is the model registered on the cell before\n",
    "    model_uuid=\"b320b49e-fe00-4c91-a0a7-92ed6312e997\" # production\n",
    "    morph_model.model_uuid = model_uuid\n",
    "    morph_model.version = model_name     # basename of each morphology file\n",
    "\n",
    "    collab_id=\"8123\"\n",
    "    test_alias=\"morph_stats_Test\"\n",
    "    test_version=\"3.0\"\n",
    "    \"\"\"\n",
    "    result_id = utils.run_test(hbp_username=HBP_USERNAME, environment=\"production\", \n",
    "                               model=morph_model, test_alias=test_alias, test_version=test_version,\n",
    "                               storage_collab_id=collab_id, register_result=True, \n",
    "                               client_obj=testLibrary)\n",
    "\n",
    "    result_uuids.append(result_id)\n",
    "    \"\"\""
   ]
  },
  {
   "cell_type": "code",
   "execution_count": null,
   "metadata": {},
   "outputs": [],
   "source": [
    "report_path = None\n",
    "if len(result_uuids) > 0:\n",
    "    print(\"\\nDo you wish to generate a report of the tests executed?\")\n",
    "    print(\"Enter: y/n\")\n",
    "    choice = raw_input().lower()\n",
    "    valid_choices = {\"yes\": True, \"y\": True, \"no\": False, \"n\": False}\n",
    "    if valid_choices[choice]:\n",
    "        valid_uuids, report_path = utils.generate_report(hbp_username=HBP_USERNAME, environment=\"dev\", \n",
    "                                                         result_list=result_uuids, only_combined=True)"
   ]
  },
  {
   "cell_type": "code",
   "execution_count": null,
   "metadata": {},
   "outputs": [],
   "source": [
    "print report_path\n",
    "if report_path:\n",
    "    rel_report_path = os.path.relpath(report_path)\n",
    "    from IPython.display import IFrame    \n",
    "    display(IFrame(rel_report_path, width=900, height=650))"
   ]
  }
 ],
 "metadata": {
  "kernelspec": {
   "display_name": "Python 2",
   "language": "python",
   "name": "python2"
  },
  "language_info": {
   "codemirror_mode": {
    "name": "ipython",
    "version": 2
   },
   "file_extension": ".py",
   "mimetype": "text/x-python",
   "name": "python",
   "nbconvert_exporter": "python",
   "pygments_lexer": "ipython2",
   "version": "2.7.13"
  }
 },
 "nbformat": 4,
 "nbformat_minor": 2
}
