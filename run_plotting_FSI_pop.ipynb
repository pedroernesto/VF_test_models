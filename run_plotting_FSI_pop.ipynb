{
 "cells": [
  {
   "cell_type": "code",
   "execution_count": null,
   "metadata": {},
   "outputs": [],
   "source": [
    "import json, os\n",
    "\n",
    "test_name = 'neuroM_morph_softChecks'\n",
    "model_results = 'population_models_excerpt-pop/20191218-155115'\n",
    "val_results_dir='./validation_results'\n",
    "val_results_path = os.path.join(val_results_dir, test_name, model_results)\n",
    "\n",
    "if not os.path.exists(val_results_path):\n",
    "    os.makedirs(val_results_path)\n",
    "    \n",
    "pred_file_path = os.path.join(val_results_path,'prediction_summary_FSI_pop.json')\n",
    "with open(pred_file_path, 'r') as fp:\n",
    "    pop_prediction_raw = json.load(fp)"
   ]
  },
  {
   "cell_type": "code",
   "execution_count": null,
   "metadata": {},
   "outputs": [],
   "source": [
    "import pandas as pd\n",
    "prediction_raw = pop_prediction_raw.values()[0]\n",
    "\n",
    "pred_CellPart_df = dict()\n",
    "pred_CellPart_df_list = list()\n",
    "for CellPart in prediction_raw.keys():\n",
    "    pred_CellPart_df[CellPart] = pd.DataFrame(prediction_raw[CellPart])\n",
    "    pred_CellPart_df[CellPart].insert(0, 'CellPart', CellPart)"
   ]
  },
  {
   "cell_type": "code",
   "execution_count": null,
   "metadata": {},
   "outputs": [],
   "source": [
    "import seaborn as sns\n",
    "import matplotlib.pyplot as plt\n",
    "from scipy import stats\n",
    "\n",
    "y_vars=[\"neurite_X_extent\", \"neurite_Y_extent\", \"neurite_Z_extent\"]\n",
    "x_vars=[\"total_neurite_length\", \"neurite_field_diameter\", \"neurite_largest_extent\", \"neurite_shortest_extent\"]\n",
    "\n",
    "#filepath = os.path.join(val_results_path,'statistics_FSI_pop.pdf')\n",
    "# data=prediction_raw_df\n",
    "# sns.pairplot(data, x_vars=x_vars, y_vars=y_vars, hue=\"NeuriteType\", size=4, aspect=1, kind=\"reg\")\n",
    "# plt.savefig(filepath, dpi=600, )\n",
    "\n",
    "\n",
    "def corrfunc(x, y, **kws):\n",
    "    r,p = stats.pearsonr(x,y)\n",
    "    ax = plt.gca()\n",
    "    ax.annotate(\"r = {:.2f}, p ={:.4f}\".format(r,p),\n",
    "                xy=(.1, .9), xycoords=ax.transAxes)\n",
    "\n",
    "feats_exc = ['total_number_of_neurites', 'CellPart']\n",
    "for CellPart in prediction_raw.keys():\n",
    "    prediction_raw_df=pred_CellPart_df[CellPart]\n",
    "    all_feats=list(prediction_raw_df)\n",
    "    for feat_name in feats_exc: \n",
    "        try:\n",
    "            all_feats.remove(feat_name)\n",
    "        except:\n",
    "            pass\n",
    "        \n",
    "    data=prediction_raw_df\n",
    "    g = sns.PairGrid(data, x_vars=all_feats, y_vars=all_feats, size=5, aspect=1, palette=[\"red\"])\n",
    "    g.map(sns.regplot)\n",
    "    g.map(corrfunc)\n",
    "    plt.subplots_adjust(top=0.95)\n",
    "    g.fig.suptitle('Cell part: '+CellPart, fontsize=17) \n",
    "\n",
    "    # sns.pairplot(data, x_vars=x_vars, y_vars=y_vars, hue=\"NeuriteType\", size=5, aspect=1, kind=\"reg\")\n",
    "    filepath = os.path.join(val_results_path,'prediction_lreg_'+CellPart+'_FSI_pop.pdf')\n",
    "    # plt.savefig(filepath, dpi=600, )"
   ]
  },
  {
   "cell_type": "code",
   "execution_count": null,
   "metadata": {},
   "outputs": [],
   "source": [
    "\"\"\"    \n",
    "with sns.axes_style('white'):\n",
    "    for x,y in zip(x_vars,y_vars):\n",
    "        sns.jointplot(x, y, data.loc[data.NeuriteType=='axon'], kind='reg')\n",
    "\"\"\""
   ]
  },
  {
   "cell_type": "code",
   "execution_count": null,
   "metadata": {},
   "outputs": [],
   "source": [
    "for CellPart in prediction_raw.keys():\n",
    "    prediction_raw_df=pred_CellPart_df[CellPart]\n",
    "    all_feats=list(prediction_raw_df)\n",
    "    for feat_name in feats_exc: \n",
    "        try:\n",
    "            all_feats.remove(feat_name)\n",
    "        except:\n",
    "            pass\n",
    "    \n",
    "    # plt.figure()\n",
    "    data=prediction_raw_df\n",
    "    g = sns.pairplot(data, vars=all_feats, diag_kind=\"kde\", kind='reg', markers=\"+\", diag_kws=dict(shade=True))\n",
    "    g.fig.suptitle('Cell part: '+CellPart, fontsize=17) \n",
    "\n",
    "    # plt.show()\n",
    "    filepath = os.path.join(val_results_path,'prediction_stats_'+CellPart+'_FSI_pop.pdf')\n",
    "    plt.savefig(filepath, dpi=600, )"
   ]
  },
  {
   "cell_type": "code",
   "execution_count": null,
   "metadata": {
    "scrolled": false
   },
   "outputs": [],
   "source": [
    "def corrfunc(x, y, **kws):\n",
    "    r,p = stats.pearsonr(x,y)\n",
    "    ax = plt.gca()\n",
    "    ax.annotate(\"r = {:.2f}, p ={:.2f}\".format(r,p),\n",
    "                xy=(.1, .9), xycoords=ax.transAxes)\n",
    "\n",
    "feats_exc = ['total_number_of_neurites', 'max_section_branch_order', 'CellPart']\n",
    "for CellPart in prediction_raw.keys():\n",
    "    prediction_raw_df=pred_CellPart_df[CellPart]\n",
    "    all_feats=list(prediction_raw_df)\n",
    "    for feat_name in feats_exc: \n",
    "        try:\n",
    "            all_feats.remove(feat_name)\n",
    "        except:\n",
    "            pass\n",
    "    \n",
    "    data_excerpt_df = prediction_raw_df.loc[:, all_feats]\n",
    "    data=data_excerpt_df\n",
    "    g = sns.PairGrid(data, palette=[\"red\"])\n",
    "    g.map_upper(sns.regplot)\n",
    "    g.map_upper(corrfunc)\n",
    "    # g.map_upper(plt.reg, s=10)\n",
    "    g.map_diag(sns.distplot, kde=False)\n",
    "    g.map_lower(sns.kdeplot, cmap=\"Blues_d\", n_levels=6)\n",
    "    \n",
    "    plt.subplots_adjust(top=0.95)\n",
    "    g.fig.suptitle('Cell part: '+CellPart, fontsize=17) \n",
    "    \n",
    "    filepath = os.path.join(val_results_path,'prediction_stats_'+CellPart+'_FSI_pop.pdf')\n",
    "    plt.savefig(filepath, dpi=600, )"
   ]
  },
  {
   "cell_type": "code",
   "execution_count": null,
   "metadata": {},
   "outputs": [],
   "source": []
  }
 ],
 "metadata": {
  "kernelspec": {
   "display_name": "Python 2",
   "language": "python",
   "name": "python2"
  },
  "language_info": {
   "codemirror_mode": {
    "name": "ipython",
    "version": 2
   },
   "file_extension": ".py",
   "mimetype": "text/x-python",
   "name": "python",
   "nbconvert_exporter": "python",
   "pygments_lexer": "ipython2",
   "version": "2.7.13"
  }
 },
 "nbformat": 4,
 "nbformat_minor": 2
}
