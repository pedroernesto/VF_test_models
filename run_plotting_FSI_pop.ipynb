{
 "cells": [
  {
   "cell_type": "code",
   "execution_count": null,
   "metadata": {
    "scrolled": true
   },
   "outputs": [],
   "source": [
    "import json, os\n",
    "import seaborn as sns\n",
    "import matplotlib.pyplot as plt\n",
    "from scipy import stats\n",
    "import pandas as pd\n",
    "import numpy as np\n",
    "\n",
    "test_name = 'neuroM_morph_softChecks'\n",
    "model_results = 'population_models_excerpt-pop/20191219-163146'\n",
    "val_results_dir='./validation_results'\n",
    "val_results_path = os.path.join(val_results_dir, test_name, model_results)\n",
    "\n",
    "if not os.path.exists(val_results_path):\n",
    "    os.makedirs(val_results_path)\n",
    "    \n",
    "pred_file_path = os.path.join(val_results_path,'prediction_summary_FSI_pop.json')\n",
    "with open(pred_file_path, 'r') as fp:\n",
    "    pop_prediction_raw = json.load(fp)"
   ]
  },
  {
   "cell_type": "code",
   "execution_count": null,
   "metadata": {},
   "outputs": [],
   "source": [
    "prediction_raw = pop_prediction_raw.values()[0]\n",
    "\n",
    "dict_pred_CellPart_df = dict()\n",
    "for CellPart in prediction_raw.keys():\n",
    "    dict_pred_CellPart_df[CellPart] = pd.DataFrame(prediction_raw[CellPart])"
   ]
  },
  {
   "cell_type": "code",
   "execution_count": null,
   "metadata": {},
   "outputs": [],
   "source": [
    "def corrfunc(x, y, **kws):\n",
    "    r,p = stats.pearsonr(x,y)\n",
    "    ax = plt.gca()\n",
    "    ax.annotate(\"r = {:.2E}\\n(p ={:.2E})\".format(r,p),\n",
    "                xy=(.1, .9), xycoords=ax.transAxes)"
   ]
  },
  {
   "cell_type": "code",
   "execution_count": null,
   "metadata": {},
   "outputs": [],
   "source": [
    "def df_drop_features(df=None, threshold_corr=0.95, threshold_var=0.05):\n",
    "    '''Drops one in any pair of highly correlated features of a DataFrame, \n",
    "    as the calculation of some quantities may not be posible. Besides, \n",
    "    columns with no variance are excluded. For instance,\n",
    "    joint kernel distributions estimates (kde) for two highly correlated \n",
    "    features may not be computed. The same holds for features with low variability.\n",
    "    \n",
    "    The cutoffs for correlation (or variance) to be considered as too high (or too low)\n",
    "    are given by 'threshold_corr' ('threshold_var'). \n",
    "    \n",
    "    Note: Adapted from \n",
    "    https://chrisalbon.com/machine_learning/feature_selection/\n",
    "    drop_highly_correlated_features/  \n",
    "    '''\n",
    "    \n",
    "    feats_to_drop = list()\n",
    "    # Compute the correlation DataFrame of the original DataFrame of feature values\n",
    "    corr_matrix_df = df.corr().abs()\n",
    "    # Build a copy with the elements below the first diagonal as False\n",
    "    upper = corr_matrix_df.where(np.triu(np.ones(corr_matrix_df.shape), k=1).astype(np.bool))\n",
    "    # Find and collect one feature name in any pair of correlated features \n",
    "    features_hcorr = [column for column in df.columns \n",
    "                      if any(upper[column] > threshold_corr)]\n",
    "    feats_to_drop.extend(features_hcorr) \n",
    "\n",
    "    # Compute the variance DataSeries of the original DataFrame of feature values\n",
    "    var_series = df.var().abs() \n",
    "    # Find and collect all features with low variance\n",
    "    feats_no_var= [column for column in df.columns \n",
    "                   if var_series[column] < threshold_var]\n",
    "    feats_to_drop.extend(feats_no_var) \n",
    "    \n",
    "    # Drop all those disposable (maybe superfluous) features found\n",
    "    df.drop(df[feats_to_drop], axis=1, inplace=True)\n",
    "    \n",
    "    return df"
   ]
  },
  {
   "cell_type": "code",
   "execution_count": null,
   "metadata": {},
   "outputs": [],
   "source": [
    "for CellPart, prediction_raw_df in dict_pred_CellPart_df.items():\n",
    "    data = df_drop_features(df=prediction_raw_df)\n",
    "\n",
    "    g = sns.pairplot(data, height=5, aspect=1, diag_kind=\"kde\")\n",
    "    # g = sns.PairGrid(data, size=5, aspect=1, palette=[\"red\"])\n",
    "    # g.map(sns.regplot)\n",
    "    # g.map(corrfunc)\n",
    "    g.map_upper(sns.regplot)\n",
    "    g.map_upper(corrfunc)\n",
    "    g.map_diag(sns.distplot, kde=True)\n",
    "    g.map_lower(sns.regplot)\n",
    "    g.map_lower(corrfunc)\n",
    "    \n",
    "    plt.subplots_adjust(top=0.95)\n",
    "    g.fig.suptitle('Cell part: '+CellPart, fontsize=17) \n",
    "\n",
    "    filepath = os.path.join(val_results_path,'prediction_lreg_'+CellPart+'_FSI_pop.pdf')\n",
    "    # plt.savefig(filepath, dpi=600, )"
   ]
  },
  {
   "cell_type": "code",
   "execution_count": null,
   "metadata": {},
   "outputs": [],
   "source": [
    "for CellPart, prediction_raw_df in dict_pred_CellPart_df.items():\n",
    "    data = df_drop_features(df=prediction_raw_df)\n",
    "    \n",
    "    print CellPart, '-->', data.columns, '\\n'\n",
    "    g = sns.pairplot(data, height=5, aspect=1, diag_kind=\"kde\")\n",
    "    # g = sns.PairGrid(data, size=5, aspect=1, palette=[\"red\"])\n",
    "    g.map_upper(sns.regplot)\n",
    "    g.map_upper(corrfunc)\n",
    "    # g.map_upper(plt.reg, s=10)\n",
    "    g.map_diag(sns.distplot, kde=True)\n",
    "    g.map_lower(sns.kdeplot, cmap=\"Blues_d\", n_levels=8)\n",
    "    \n",
    "    plt.subplots_adjust(top=0.95)\n",
    "    g.fig.suptitle('Cell part: ' + CellPart, fontsize=17) \n",
    "    \n",
    "    filepath = os.path.join(val_results_path,'prediction_stats__'+CellPart+'_FSI_pop.pdf')\n",
    "    # plt.savefig(filepath, dpi=600, )"
   ]
  },
  {
   "cell_type": "code",
   "execution_count": null,
   "metadata": {},
   "outputs": [],
   "source": []
  }
 ],
 "metadata": {
  "kernelspec": {
   "display_name": "Python 2",
   "language": "python",
   "name": "python2"
  },
  "language_info": {
   "codemirror_mode": {
    "name": "ipython",
    "version": 2
   },
   "file_extension": ".py",
   "mimetype": "text/x-python",
   "name": "python",
   "nbconvert_exporter": "python",
   "pygments_lexer": "ipython2",
   "version": "2.7.13"
  }
 },
 "nbformat": 4,
 "nbformat_minor": 2
}
