{
 "cells": [
  {
   "cell_type": "code",
   "execution_count": null,
   "metadata": {
    "scrolled": true
   },
   "outputs": [],
   "source": [
    "import json, os\n",
    "import seaborn as sns\n",
    "import matplotlib.pyplot as plt\n",
    "from scipy import stats\n",
    "import pandas as pd\n",
    "\n",
    "test_name = 'neuroM_morph_softChecks'\n",
    "model_results = 'population_models_excerpt-pop/20191219-163146'\n",
    "val_results_dir='./validation_results'\n",
    "val_results_path = os.path.join(val_results_dir, test_name, model_results)\n",
    "\n",
    "if not os.path.exists(val_results_path):\n",
    "    os.makedirs(val_results_path)\n",
    "    \n",
    "pred_file_path = os.path.join(val_results_path,'prediction_summary_FSI_pop.json')\n",
    "with open(pred_file_path, 'r') as fp:\n",
    "    pop_prediction_raw = json.load(fp)"
   ]
  },
  {
   "cell_type": "code",
   "execution_count": null,
   "metadata": {},
   "outputs": [],
   "source": [
    "prediction_raw = pop_prediction_raw.values()[0]\n",
    "\n",
    "pred_CellPart_df = dict()\n",
    "pred_CellPart_df_list = list()\n",
    "for CellPart in prediction_raw.keys():\n",
    "    pred_CellPart_df[CellPart] = pd.DataFrame(prediction_raw[CellPart])"
   ]
  },
  {
   "cell_type": "code",
   "execution_count": null,
   "metadata": {},
   "outputs": [],
   "source": [
    "def feats_to_plot(all_feats=[], feats_exc=[]):\n",
    "    for feat_name in feats_exc:\n",
    "        try:\n",
    "            all_feats.remove(feat_name)\n",
    "        except:\n",
    "            pass\n",
    "\n",
    "    return all_feats"
   ]
  },
  {
   "cell_type": "code",
   "execution_count": null,
   "metadata": {},
   "outputs": [],
   "source": [
    "def corrfunc(x, y, **kws):\n",
    "    r,p = stats.pearsonr(x,y)\n",
    "    ax = plt.gca()\n",
    "    ax.annotate(\"r = {:.2E}\\n(p ={:.2E})\".format(r,p),\n",
    "                xy=(.1, .9), xycoords=ax.transAxes)"
   ]
  },
  {
   "cell_type": "code",
   "execution_count": null,
   "metadata": {},
   "outputs": [],
   "source": [
    "feats_exc = ['total_number_of_neurites']\n",
    "for CellPart in prediction_raw.keys():\n",
    "    prediction_raw_df=pred_CellPart_df[CellPart]\n",
    "    all_feats = feats_to_plot(all_feats=list(prediction_raw_df), feats_exc=feats_exc)\n",
    "        \n",
    "    print '{} -> {} \\n'.format(CellPart, all_feats)    \n",
    "    data = prediction_raw_df.loc[:, all_feats]    \n",
    "    g = sns.pairplot(data, height=5, aspect=1, diag_kind=\"kde\")\n",
    "    # g = sns.PairGrid(data, size=5, aspect=1, palette=[\"red\"])\n",
    "    # g.map(sns.regplot)\n",
    "    # g.map(corrfunc)\n",
    "    g.map_upper(sns.regplot)\n",
    "    g.map_upper(corrfunc)\n",
    "    g.map_diag(sns.distplot, kde=True)\n",
    "    g.map_lower(sns.regplot)\n",
    "    g.map_lower(corrfunc)\n",
    "    \n",
    "    plt.subplots_adjust(top=0.95)\n",
    "    g.fig.suptitle('Cell part: '+CellPart, fontsize=17) \n",
    "\n",
    "    filepath = os.path.join(val_results_path,'prediction_lreg_'+CellPart+'_FSI_pop.pdf')\n",
    "    # plt.savefig(filepath, dpi=600, )"
   ]
  },
  {
   "cell_type": "code",
   "execution_count": null,
   "metadata": {},
   "outputs": [],
   "source": [
    "feats_exc = ['total_number_of_neurites', 'max_section_branch_order', 'total_soma_radii']\n",
    "for CellPart in prediction_raw.keys():\n",
    "    \n",
    "    all_feats = feats_to_plot(all_feats=list(prediction_raw_df), feats_exc=feats_exc)\n",
    "    \n",
    "    print '{} -> {} \\n'.format(CellPart, all_feats)    \n",
    "\n",
    "    data = prediction_raw_df.loc[:, all_feats]\n",
    "    g = sns.pairplot(data, height=5, aspect=1, diag_kind=\"kde\")\n",
    "    # g = sns.PairGrid(data, size=5, aspect=1, palette=[\"red\"])\n",
    "    g.map_upper(sns.regplot)\n",
    "    g.map_upper(corrfunc)\n",
    "    # g.map_upper(plt.reg, s=10)\n",
    "    g.map_diag(sns.distplot, kde=True)\n",
    "    g.map_lower(sns.kdeplot, cmap=\"Blues_d\", n_levels=8)\n",
    "    \n",
    "    plt.subplots_adjust(top=0.95)\n",
    "    g.fig.suptitle('Cell part: ' + CellPart, fontsize=17) \n",
    "    \n",
    "    filepath = os.path.join(val_results_path,'prediction_stats__'+CellPart+'_FSI_pop.pdf')\n",
    "    # plt.savefig(filepath, dpi=600, )"
   ]
  },
  {
   "cell_type": "code",
   "execution_count": null,
   "metadata": {},
   "outputs": [],
   "source": [
    "pred_CellPart_df['neuron'].head()\n",
    "pred_CellPart_df['neuron'][['max_soma_radii', 'total_soma_radii']]\n",
    "pred_CellPart_df['neuron'].corr().abs()"
   ]
  },
  {
   "cell_type": "code",
   "execution_count": null,
   "metadata": {},
   "outputs": [],
   "source": [
    "\"\"\"    \n",
    "with sns.axes_style('white'):\n",
    "    for x,y in zip(x_vars,y_vars):\n",
    "        sns.jointplot(x, y, data.loc[data.NeuriteType=='axon'], kind='reg')\n",
    "\"\"\""
   ]
  },
  {
   "cell_type": "code",
   "execution_count": null,
   "metadata": {},
   "outputs": [],
   "source": [
    "pred_CellPart_df['basal_dendrite'][['total_number_of_neurites']]"
   ]
  }
 ],
 "metadata": {
  "kernelspec": {
   "display_name": "Python 2",
   "language": "python",
   "name": "python2"
  },
  "language_info": {
   "codemirror_mode": {
    "name": "ipython",
    "version": 2
   },
   "file_extension": ".py",
   "mimetype": "text/x-python",
   "name": "python",
   "nbconvert_exporter": "python",
   "pygments_lexer": "ipython2",
   "version": "2.7.13"
  }
 },
 "nbformat": 4,
 "nbformat_minor": 2
}
