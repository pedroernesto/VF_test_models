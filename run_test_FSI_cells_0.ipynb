{
 "cells": [
  {
   "cell_type": "code",
   "execution_count": null,
   "metadata": {},
   "outputs": [],
   "source": [
    "# Create a new model entry in the ModelCatalog; metadata to be used for registering model\n",
    "!pip install --upgrade -q hbp_validation_framework\n",
    "\n",
    "from hbp_validation_framework import ModelCatalog, TestLibrary\n",
    "HBP_USERNAME = \"pedroernesto\"\n",
    "env=\"production\"\n",
    "testLibrary = TestLibrary(username=HBP_USERNAME, environment=env)\n",
    "model_catalog = ModelCatalog.from_existing(testLibrary)\n",
    "\n",
    "model = model_catalog.register_model(app_id=\"39968\", name=\"Reconstructed cell's morphology\",\n",
    "                alias=\"NeuroM-MorphStats-Model\", author=\"Alexander Kozlov\", organization=\"HBP-SP6\",\n",
    "                private=True, cell_type=\"Fast spiking interneuron\", model_type=\"Single Cell\",\n",
    "                brain_region=\"Striatum\", species=\"Other\",\n",
    "                instances=[{\"source\":\"https://github.com/pedroernesto/VF_test_models\",\n",
    "                            \"version\":\"1.0\", \"parameters\":\"\"}],\n",
    "                description=\"A class to interact with morphology files via the morphometrics-NeuroM's API (morph_stats)\")"
   ]
  },
  {
   "cell_type": "code",
   "execution_count": null,
   "metadata": {},
   "outputs": [],
   "source": [
    "# Adding model instances to an existing Model collection in the Model Catalog\n",
    "import os\n",
    "\n",
    "from hbp_validation_framework import ModelCatalog, TestLibrary\n",
    "HBP_USERNAME = \"pedroernesto\"\n",
    "env=\"production\"\n",
    "testLibrary = TestLibrary(username=HBP_USERNAME, environment=env)\n",
    "model_catalog = ModelCatalog.from_existing(testLibrary)\n",
    "\n",
    "model_id='b320b49e-fe00-4c91-a0a7-92ed6312e997'\n",
    "source_dir='http://collab.link/8123/usecases/models/basal_morphology/fs/'\n",
    "\n",
    "models_path = './models_excerpt'\n",
    "file_entries = os.listdir(models_path)\n",
    "morph_files = [f for f in file_entries if f.endswith(\".swc\")]\n",
    "for file_name in morph_files:\n",
    "    morph_name=file_name.split('.')[0]\n",
    "    instance_id = model_catalog.add_model_instance(model_id=model_id,\n",
    "                                              source=os.path.join(source_dir,file_name),\n",
    "                                              version=morph_name,\n",
    "                                              description=\"\",\n",
    "                                              parameters='{}',\n",
    "                                              code_format=\"\")"
   ]
  },
  {
   "cell_type": "code",
   "execution_count": null,
   "metadata": {
    "scrolled": true
   },
   "outputs": [],
   "source": [
    "# Version of SciUnit is still the same, but the code has changed. Better to install a specific commit\n",
    "# !pip install -q git+git://github.com/scidash/sciunit.git@9e61c060cd8e5c6d7bce675d37c398987a9491c5\n",
    "# For sciunit 0.2.0.2\n",
    "# !pip install quantities==0.12.1\n",
    "# pip install neurom==1.14.6\n",
    "\n",
    "# !pip install -q neo\n",
    "# !pip install -q elephant\n",
    "# !pip install -q gitpython\n",
    "# !pip install -q efel\n",
    "\n",
    "!pip install scipy seaborn\n",
    "!pip install -U git+https://github.com/appukuttan-shailesh/hbp-validation-client.git\n",
    "!pip install --quiet fpdf PyPDF2 tabulate\n",
    "# First downgrade your pip version to install some packages:\n",
    "# python -m pip install pip==9.0.3\n",
    "# !pip install ./bbp-services-0.0.15/ ./task-types-0.0.10/ \n",
    "# !pip install hbp_service_client"
   ]
  },
  {
   "cell_type": "code",
   "execution_count": null,
   "metadata": {},
   "outputs": [],
   "source": [
    "! pip install --upgrade  -q hbp_validation_framework\n",
    "# ! pip uninstall --yes morphounit\n",
    "# !pip install --upgrade --quiet git+https://github.com/pedroernesto/morphounit.git\n",
    "# !pip install --quiet /home/pedroernesto/Documents/Project/Code/Models_Validation/Validation/ValidationTests/morphounit\n",
    "\n",
    "# First login in into the production version of the VF\n",
    "from hbp_validation_framework import utils, TestLibrary, ModelCatalog\n",
    "HBP_USERNAME = \"pedroernesto\"\n",
    "testLibrary = TestLibrary(username=HBP_USERNAME, environment=\"production\")\n",
    "modelCatalog = ModelCatalog.from_existing(testLibrary)\n",
    "# x=ModelCatalog(username=HBP_USERNAME)"
   ]
  },
  {
   "cell_type": "code",
   "execution_count": null,
   "metadata": {},
   "outputs": [],
   "source": [
    "## Testing the morpho-feature values cell by cell\n",
    "models_path = './models_excerpt-1'\n",
    "neuroM_stats_file = 'fs_cells_NeuroM_MorphStats_pred.json'"
   ]
  },
  {
   "cell_type": "code",
   "execution_count": null,
   "metadata": {},
   "outputs": [],
   "source": [
    "!pip uninstall --yes morphounit\n",
    "!pip install  -q /home/pedroernesto/Documents/Project/Code/Models_Validation/Validation/ValidationTests/morphounit\n",
    "# pip install -q git+https://github.com/appukuttan-shailesh/morphounit@morph_stats"
   ]
  },
  {
   "cell_type": "code",
   "execution_count": null,
   "metadata": {
    "scrolled": false
   },
   "outputs": [],
   "source": [
    "## Testing the morpho-feature values cell by cell\n",
    "from morphounit.utils import NeuroM_MorphStats\n",
    "import morphounit.tests\n",
    "\n",
    "\n",
    "# To run the test Locally\n",
    "import os, json, copy\n",
    "test_obs_path = os.path.expanduser('~/Documents/Project/Code/Models_Validation/Validation/ValidationTests/morphounit_expData')\n",
    "# obs_file = os.path.join(obs_path, 'fs_morpho_stats_NeuroM.json')\n",
    "obs_file = os.path.join(test_obs_path, 'fs_morpho_stats_NeuroM_NO_Field_Diam_test.json')\n",
    "with open(obs_file, 'r+') as fp:\n",
    "    raw_observation = json.load(fp)    \n",
    "       \n",
    "file_entries = os.listdir(models_path)\n",
    "morph_files = [f for f in file_entries if f.endswith((\".swc\", 'h5'))]\n",
    "for file_name in morph_files:\n",
    "    \n",
    "    morph_path = os.path.join(models_path, file_name)\n",
    "    model_name = file_name.split(\".\")[0] # Cell-ID\n",
    "    morph_model = NeuroM_MorphStats(model_name=model_name, morph_path=morph_path, \n",
    "                                    neuroM_pred_file=neuroM_stats_file)\n",
    "\n",
    "    print morph_path, \"---\", file_name, '\\n'\n",
    "\n",
    "    test = morphounit.tests.NeuroM_MorphStats_Test(observation=copy.deepcopy(raw_observation), \n",
    "                                                   base_directory=morph_model.morph_stats_output)\n",
    "    # test.generate_prediction(model=morph_model)\n",
    "    score = test.judge(morph_model, deep_error=True)\n",
    "    print(\"Score: \", score.score)\n",
    "    print(\"---------------------------------------------- \\n\")\n",
    "   \n",
    "if \"figures\" in score.related_data:\n",
    "    print(\"Output files: \")\n",
    "    for item in score.related_data[\"figures\"]:\n",
    "        print(item)\n",
    "print(\"----------------------------------------------\\n\")"
   ]
  },
  {
   "cell_type": "code",
   "execution_count": null,
   "metadata": {
    "scrolled": false
   },
   "outputs": [],
   "source": [
    "result_uuids = []\n",
    "\n",
    "file_entries = os.listdir(models_path)\n",
    "morph_files = [f for f in file_entries if f.endswith((\".swc\", 'h5'))]\n",
    "for file_name in morph_files:\n",
    "    \n",
    "    morph_path = os.path.join(models_path, file_name)\n",
    "    model_name = file_name.split(\".\")[0] # Cell-ID\n",
    "\n",
    "    morph_model = NeuroM_MorphStats(model_name=model_name, morph_path=morph_path,\n",
    "                                   config_path=config_path, morph_stats_file=stats_file)\n",
    "\n",
    "    print morph_path, \"---\", file_name, '\\n\\n'\n",
    "    # score = test.judge(model2Test, deep_error=True)\n",
    "    \n",
    "    # On the Collab (observation path is registered with Test definition on the VF!)\n",
    "    # It is the model registered on the cell before\n",
    "    model_uuid=\"b320b49e-fe00-4c91-a0a7-92ed6312e997\" # production\n",
    "    morph_model.model_uuid = model_uuid\n",
    "    morph_model.model_version = model_name     # basename of each morphology file\n",
    "\n",
    "    collab_id=\"8123\"\n",
    "    test_alias=\"morph_stats_Test\"\n",
    "    test_version=\"3.0\"\n",
    "    \"\"\"\n",
    "    result_id = utils.run_test(username=HBP_USERNAME, environment=\"production\", \n",
    "                               model=morph_model, test_alias=test_alias, test_version=test_version,\n",
    "                               storage_collab_id=collab_id, register_result=True, \n",
    "                               client_obj=testLibrary, observation_path=obs_file_path)                               \n",
    "\n",
    "    result_uuids.append(result_id)\n",
    "    \"\"\""
   ]
  },
  {
   "cell_type": "code",
   "execution_count": null,
   "metadata": {},
   "outputs": [],
   "source": [
    "report_path = None\n",
    "if len(result_uuids) > 0:\n",
    "    print(\"\\nDo you wish to generate a report of the tests executed?\")\n",
    "    print(\"Enter: y/n\")\n",
    "    choice = raw_input().lower()\n",
    "    valid_choices = {\"yes\": True, \"y\": True, \"no\": False, \"n\": False}\n",
    "    if valid_choices[choice]:\n",
    "        valid_uuids, report_path = utils.generate_report(hbp_username=HBP_USERNAME, environment=\"dev\", \n",
    "                                                         result_list=result_uuids, only_combined=True)"
   ]
  },
  {
   "cell_type": "code",
   "execution_count": null,
   "metadata": {},
   "outputs": [],
   "source": [
    "print report_path\n",
    "if report_path:\n",
    "    rel_report_path = os.path.relpath(report_path)\n",
    "    from IPython.display import IFrame    \n",
    "    display(IFrame(rel_report_path, width=900, height=650))"
   ]
  }
 ],
 "metadata": {
  "kernelspec": {
   "display_name": "Python 2",
   "language": "python",
   "name": "python2"
  },
  "language_info": {
   "codemirror_mode": {
    "name": "ipython",
    "version": 2
   },
   "file_extension": ".py",
   "mimetype": "text/x-python",
   "name": "python",
   "nbconvert_exporter": "python",
   "pygments_lexer": "ipython2",
   "version": "2.7.13"
  }
 },
 "nbformat": 4,
 "nbformat_minor": 2
}
